{
  "cells": [
    {
      "cell_type": "markdown",
      "metadata": {
        "id": "2gXjoyUkl1Wc"
      },
      "source": [
        "# YOLOv8 Installation"
      ]
    },
    {
      "cell_type": "code",
      "execution_count": null,
      "metadata": {
        "id": "5C4MpBNYlzSa",
        "colab": {
          "base_uri": "https://localhost:8080/"
        },
        "outputId": "d099a6e6-8870-4619-a2b9-7559999152f4"
      },
      "outputs": [
        {
          "output_type": "stream",
          "name": "stdout",
          "text": [
            "Mounted at /content/drive\n"
          ]
        }
      ],
      "source": [
        "# Mount Google Drive\n",
        "from google.colab import drive\n",
        "drive.mount('/content/drive')"
      ]
    },
    {
      "cell_type": "code",
      "execution_count": null,
      "metadata": {
        "id": "_2JhsEJEl90q"
      },
      "outputs": [],
      "source": [
        "# Access Google Drive Folder\n",
        "import os\n",
        "os.chdir(\"drive/MyDrive\")"
      ]
    },
    {
      "cell_type": "code",
      "execution_count": null,
      "metadata": {
        "id": "sHi93xhml_L2"
      },
      "outputs": [],
      "source": [
        "# Create YOLOv8 root folder\n",
        "!mkdir yolov8-tensorrt"
      ]
    },
    {
      "cell_type": "code",
      "execution_count": null,
      "metadata": {
        "id": "ptFfBeq5mAa8",
        "colab": {
          "base_uri": "https://localhost:8080/"
        },
        "outputId": "f2589873-0923-4a2d-e590-e5e38ec90eb2"
      },
      "outputs": [
        {
          "output_type": "stream",
          "name": "stdout",
          "text": [
            "/content/drive/MyDrive/yolov8-tensorrt\n"
          ]
        }
      ],
      "source": [
        "# Go to YOLOv8 root folder\n",
        "%cd yolov8-tensorrt"
      ]
    },
    {
      "cell_type": "code",
      "execution_count": null,
      "metadata": {
        "id": "OD26qSXamCfk",
        "colab": {
          "base_uri": "https://localhost:8080/"
        },
        "outputId": "06c27834-3e3e-4298-c8b4-6af19247aa43"
      },
      "outputs": [
        {
          "output_type": "stream",
          "name": "stdout",
          "text": [
            "Ultralytics YOLOv8.2.68 🚀 Python-3.10.12 torch-2.3.1+cu121 CUDA:0 (Tesla T4, 15102MiB)\n",
            "Setup complete ✅ (2 CPUs, 12.7 GB RAM, 29.7/78.2 GB disk)\n"
          ]
        }
      ],
      "source": [
        "# Install YOLOv8\n",
        "%pip install ultralytics\n",
        "\n",
        "import ultralytics\n",
        "ultralytics.checks()"
      ]
    },
    {
      "cell_type": "markdown",
      "metadata": {
        "id": "zJBju7PZmHYc"
      },
      "source": [
        "## Download the Model"
      ]
    },
    {
      "cell_type": "code",
      "execution_count": null,
      "metadata": {
        "id": "hHTp3kVsmKNi"
      },
      "outputs": [],
      "source": [
        "# Download YOLOv8 model\n",
        "!wget https://github.com/ultralytics/assets/releases/download/v0.0.0/yolov8x.pt"
      ]
    },
    {
      "cell_type": "markdown",
      "metadata": {
        "id": "9brSTmpEmLTj"
      },
      "source": [
        "# Tensorrt"
      ]
    },
    {
      "cell_type": "code",
      "execution_count": null,
      "metadata": {
        "id": "VUff5dejmNHu",
        "colab": {
          "base_uri": "https://localhost:8080/"
        },
        "outputId": "4abac4b3-4506-45ac-b56f-69a4548a1142"
      },
      "outputs": [
        {
          "output_type": "stream",
          "name": "stdout",
          "text": [
            "Collecting tensorrt\n",
            "  Downloading tensorrt-10.2.0.post1.tar.gz (16 kB)\n",
            "  Preparing metadata (setup.py) ... \u001b[?25l\u001b[?25hdone\n",
            "Collecting tensorrt-cu12==10.2.0.post1 (from tensorrt)\n",
            "  Downloading tensorrt-cu12-10.2.0.post1.tar.gz (18 kB)\n",
            "  Preparing metadata (setup.py) ... \u001b[?25l\u001b[?25hdone\n",
            "Building wheels for collected packages: tensorrt, tensorrt-cu12\n",
            "  Building wheel for tensorrt (setup.py) ... \u001b[?25l\u001b[?25hdone\n",
            "  Created wheel for tensorrt: filename=tensorrt-10.2.0.post1-py2.py3-none-any.whl size=16419 sha256=cd396d90764216056461c8134ee48a6cc140c92e2ef26e439e917391b4876c8f\n",
            "  Stored in directory: /root/.cache/pip/wheels/61/5f/d0/e0184ce80b75930f1376ad398ee9e08a45861d0057ee358e2d\n",
            "  Building wheel for tensorrt-cu12 (setup.py) ... \u001b[?25l\u001b[?25hdone\n",
            "  Created wheel for tensorrt-cu12: filename=tensorrt_cu12-10.2.0.post1-py2.py3-none-any.whl size=17633 sha256=b10606813976f5538ebab1ee1ed565dd56016f0bfe8ef2006ef964e4b5eb3e92\n",
            "  Stored in directory: /root/.cache/pip/wheels/bc/be/a0/0708e6c9c1b108c54cbe0425eb84c7e9a49b5e1d31bb2115fd\n",
            "Successfully built tensorrt tensorrt-cu12\n",
            "Installing collected packages: tensorrt-cu12, tensorrt\n",
            "Successfully installed tensorrt-10.2.0.post1 tensorrt-cu12-10.2.0.post1\n"
          ]
        }
      ],
      "source": [
        "!pip install tensorrt"
      ]
    },
    {
      "cell_type": "code",
      "execution_count": null,
      "metadata": {
        "id": "e0pZtlcCmQkE",
        "colab": {
          "base_uri": "https://localhost:8080/"
        },
        "outputId": "ea2d0774-c784-4053-fc51-c037a8af366b"
      },
      "outputs": [
        {
          "output_type": "stream",
          "name": "stdout",
          "text": [
            "Collecting tensorrt_lean\n",
            "  Downloading tensorrt_lean-10.2.0.post1.tar.gz (16 kB)\n",
            "  Preparing metadata (setup.py) ... \u001b[?25l\u001b[?25hdone\n",
            "Collecting tensorrt_lean-cu12==10.2.0.post1 (from tensorrt_lean)\n",
            "  Downloading tensorrt_lean-cu12-10.2.0.post1.tar.gz (18 kB)\n",
            "  Preparing metadata (setup.py) ... \u001b[?25l\u001b[?25hdone\n",
            "Building wheels for collected packages: tensorrt_lean, tensorrt_lean-cu12\n",
            "  Building wheel for tensorrt_lean (setup.py) ... \u001b[?25l\u001b[?25hdone\n",
            "  Created wheel for tensorrt_lean: filename=tensorrt_lean-10.2.0.post1-py2.py3-none-any.whl size=16490 sha256=541343d0c55cd7d53a0b71476b25e11036fa47e907667cabb0ae2a970f9bc48f\n",
            "  Stored in directory: /root/.cache/pip/wheels/59/6e/29/c4437f087ccf2abfaf853b1fa022ddae94db2e6e8bf1d2f554\n",
            "  Building wheel for tensorrt_lean-cu12 (setup.py) ... \u001b[?25l\u001b[?25hdone\n",
            "  Created wheel for tensorrt_lean-cu12: filename=tensorrt_lean_cu12-10.2.0.post1-py2.py3-none-any.whl size=17717 sha256=aa690f12fbad2e91f6601e6b55a9077d4198311cccdfbe584795766919c0430d\n",
            "  Stored in directory: /root/.cache/pip/wheels/31/80/66/2a0feb0a0e3bb4d2f898da1144ba3713358a399b8fb14c01c7\n",
            "Successfully built tensorrt_lean tensorrt_lean-cu12\n",
            "Installing collected packages: tensorrt_lean-cu12, tensorrt_lean\n",
            "Successfully installed tensorrt_lean-10.2.0.post1 tensorrt_lean-cu12-10.2.0.post1\n"
          ]
        }
      ],
      "source": [
        "!pip install tensorrt_lean"
      ]
    },
    {
      "cell_type": "code",
      "execution_count": null,
      "metadata": {
        "id": "fAhaRj11mS1m",
        "colab": {
          "base_uri": "https://localhost:8080/"
        },
        "outputId": "224fa2ea-ec85-4c9a-c458-ffe88dce3a8b"
      },
      "outputs": [
        {
          "output_type": "stream",
          "name": "stdout",
          "text": [
            "Collecting tensorrt_dispatch\n",
            "  Downloading tensorrt_dispatch-10.2.0.post1.tar.gz (16 kB)\n",
            "  Preparing metadata (setup.py) ... \u001b[?25l\u001b[?25hdone\n",
            "Collecting tensorrt_dispatch-cu12==10.2.0.post1 (from tensorrt_dispatch)\n",
            "  Downloading tensorrt_dispatch-cu12-10.2.0.post1.tar.gz (18 kB)\n",
            "  Preparing metadata (setup.py) ... \u001b[?25l\u001b[?25hdone\n",
            "Building wheels for collected packages: tensorrt_dispatch, tensorrt_dispatch-cu12\n",
            "  Building wheel for tensorrt_dispatch (setup.py) ... \u001b[?25l\u001b[?25hdone\n",
            "  Created wheel for tensorrt_dispatch: filename=tensorrt_dispatch-10.2.0.post1-py2.py3-none-any.whl size=16545 sha256=434b08fe31f51d307973127c2204beb75489de0dc2d966df60465b3472a9624d\n",
            "  Stored in directory: /root/.cache/pip/wheels/5c/a6/b4/8216c0bd7dfa8cd1095e3ae97332ed0191eb374d58f666f10c\n",
            "  Building wheel for tensorrt_dispatch-cu12 (setup.py) ... \u001b[?25l\u001b[?25hdone\n",
            "  Created wheel for tensorrt_dispatch-cu12: filename=tensorrt_dispatch_cu12-10.2.0.post1-py2.py3-none-any.whl size=17782 sha256=a6392c36b85bd5f0cc6e2405d943121c8063c727e17e3d1e765421a8fe8ceec1\n",
            "  Stored in directory: /root/.cache/pip/wheels/ba/8e/c9/b2ab9bb7033071b1274610975781e0462f8a5ba39b9c477f99\n",
            "Successfully built tensorrt_dispatch tensorrt_dispatch-cu12\n",
            "Installing collected packages: tensorrt_dispatch-cu12, tensorrt_dispatch\n",
            "Successfully installed tensorrt_dispatch-10.2.0.post1 tensorrt_dispatch-cu12-10.2.0.post1\n"
          ]
        }
      ],
      "source": [
        "!pip install tensorrt_dispatch"
      ]
    },
    {
      "cell_type": "code",
      "execution_count": null,
      "metadata": {
        "id": "3zR8n35m5Kp6",
        "colab": {
          "base_uri": "https://localhost:8080/"
        },
        "outputId": "413b6d4e-505c-4761-ba35-b53d1268311e"
      },
      "outputs": [
        {
          "output_type": "stream",
          "name": "stdout",
          "text": [
            "Collecting onnx\n",
            "  Downloading onnx-1.16.1-cp310-cp310-manylinux_2_17_x86_64.manylinux2014_x86_64.whl.metadata (16 kB)\n",
            "Collecting onnxsim\n",
            "  Downloading onnxsim-0.4.36-cp310-cp310-manylinux_2_17_x86_64.manylinux2014_x86_64.whl.metadata (4.3 kB)\n",
            "Collecting onnxruntime-gpu\n",
            "  Downloading onnxruntime_gpu-1.18.1-cp310-cp310-manylinux_2_27_x86_64.manylinux_2_28_x86_64.whl.metadata (4.4 kB)\n",
            "Requirement already satisfied: numpy>=1.20 in /usr/local/lib/python3.10/dist-packages (from onnx) (1.26.4)\n",
            "Requirement already satisfied: protobuf>=3.20.2 in /usr/local/lib/python3.10/dist-packages (from onnx) (3.20.3)\n",
            "Requirement already satisfied: rich in /usr/local/lib/python3.10/dist-packages (from onnxsim) (13.7.1)\n",
            "Collecting coloredlogs (from onnxruntime-gpu)\n",
            "  Downloading coloredlogs-15.0.1-py2.py3-none-any.whl.metadata (12 kB)\n",
            "Requirement already satisfied: flatbuffers in /usr/local/lib/python3.10/dist-packages (from onnxruntime-gpu) (24.3.25)\n",
            "Requirement already satisfied: packaging in /usr/local/lib/python3.10/dist-packages (from onnxruntime-gpu) (24.1)\n",
            "Requirement already satisfied: sympy in /usr/local/lib/python3.10/dist-packages (from onnxruntime-gpu) (1.13.1)\n",
            "Collecting humanfriendly>=9.1 (from coloredlogs->onnxruntime-gpu)\n",
            "  Downloading humanfriendly-10.0-py2.py3-none-any.whl.metadata (9.2 kB)\n",
            "Requirement already satisfied: markdown-it-py>=2.2.0 in /usr/local/lib/python3.10/dist-packages (from rich->onnxsim) (3.0.0)\n",
            "Requirement already satisfied: pygments<3.0.0,>=2.13.0 in /usr/local/lib/python3.10/dist-packages (from rich->onnxsim) (2.16.1)\n",
            "Requirement already satisfied: mpmath<1.4,>=1.1.0 in /usr/local/lib/python3.10/dist-packages (from sympy->onnxruntime-gpu) (1.3.0)\n",
            "Requirement already satisfied: mdurl~=0.1 in /usr/local/lib/python3.10/dist-packages (from markdown-it-py>=2.2.0->rich->onnxsim) (0.1.2)\n",
            "Downloading onnx-1.16.1-cp310-cp310-manylinux_2_17_x86_64.manylinux2014_x86_64.whl (15.9 MB)\n",
            "\u001b[2K   \u001b[90m━━━━━━━━━━━━━━━━━━━━━━━━━━━━━━━━━━━━━━━━\u001b[0m \u001b[32m15.9/15.9 MB\u001b[0m \u001b[31m62.1 MB/s\u001b[0m eta \u001b[36m0:00:00\u001b[0m\n",
            "\u001b[?25hDownloading onnxsim-0.4.36-cp310-cp310-manylinux_2_17_x86_64.manylinux2014_x86_64.whl (2.3 MB)\n",
            "\u001b[2K   \u001b[90m━━━━━━━━━━━━━━━━━━━━━━━━━━━━━━━━━━━━━━━━\u001b[0m \u001b[32m2.3/2.3 MB\u001b[0m \u001b[31m66.2 MB/s\u001b[0m eta \u001b[36m0:00:00\u001b[0m\n",
            "\u001b[?25hDownloading onnxruntime_gpu-1.18.1-cp310-cp310-manylinux_2_27_x86_64.manylinux_2_28_x86_64.whl (200.8 MB)\n",
            "\u001b[2K   \u001b[90m━━━━━━━━━━━━━━━━━━━━━━━━━━━━━━━━━━━━━━━━\u001b[0m \u001b[32m200.8/200.8 MB\u001b[0m \u001b[31m5.4 MB/s\u001b[0m eta \u001b[36m0:00:00\u001b[0m\n",
            "\u001b[?25hDownloading coloredlogs-15.0.1-py2.py3-none-any.whl (46 kB)\n",
            "\u001b[2K   \u001b[90m━━━━━━━━━━━━━━━━━━━━━━━━━━━━━━━━━━━━━━━━\u001b[0m \u001b[32m46.0/46.0 kB\u001b[0m \u001b[31m3.5 MB/s\u001b[0m eta \u001b[36m0:00:00\u001b[0m\n",
            "\u001b[?25hDownloading humanfriendly-10.0-py2.py3-none-any.whl (86 kB)\n",
            "\u001b[2K   \u001b[90m━━━━━━━━━━━━━━━━━━━━━━━━━━━━━━━━━━━━━━━━\u001b[0m \u001b[32m86.8/86.8 kB\u001b[0m \u001b[31m3.4 MB/s\u001b[0m eta \u001b[36m0:00:00\u001b[0m\n",
            "\u001b[?25hInstalling collected packages: onnx, humanfriendly, coloredlogs, onnxsim, onnxruntime-gpu\n",
            "Successfully installed coloredlogs-15.0.1 humanfriendly-10.0 onnx-1.16.1 onnxruntime-gpu-1.18.1 onnxsim-0.4.36\n"
          ]
        }
      ],
      "source": [
        "!pip install onnx onnxsim onnxruntime-gpu"
      ]
    },
    {
      "cell_type": "code",
      "execution_count": null,
      "metadata": {
        "id": "2UxZjv9JmUaY",
        "colab": {
          "base_uri": "https://localhost:8080/"
        },
        "outputId": "ae88f4a4-9371-4bff-d25f-91c49f16f4e9"
      },
      "outputs": [
        {
          "output_type": "stream",
          "name": "stdout",
          "text": [
            "10.2.0.post1\n"
          ]
        }
      ],
      "source": [
        "import tensorrt\n",
        "print(tensorrt.__version__)\n",
        "assert tensorrt.Builder(tensorrt.Logger())"
      ]
    },
    {
      "cell_type": "code",
      "execution_count": null,
      "metadata": {
        "id": "V62zTVoImXKU",
        "colab": {
          "base_uri": "https://localhost:8080/"
        },
        "outputId": "b7071835-be04-4477-b86e-96629f8e9194"
      },
      "outputs": [
        {
          "output_type": "stream",
          "name": "stdout",
          "text": [
            "WARNING ⚠️ TensorRT requires GPU export, automatically assigning device=0\n",
            "Ultralytics YOLOv8.2.68 🚀 Python-3.10.12 torch-2.3.1+cu121 CUDA:0 (Tesla T4, 15102MiB)\n",
            "Model summary (fused): 168 layers, 3,005,843 parameters, 0 gradients, 8.1 GFLOPs\n",
            "\n",
            "\u001b[34m\u001b[1mPyTorch:\u001b[0m starting from '/content/drive/MyDrive/Turkish Plate Recognition/runs/detect/yolov8n-plate-detection2/weights/best.pt' with input shape (1, 3, 640, 640) BCHW and output shape(s) (1, 5, 8400) (6.0 MB)\n",
            "\n",
            "\u001b[34m\u001b[1mONNX:\u001b[0m starting export with onnx 1.16.1 opset 17...\n",
            "\u001b[34m\u001b[1mONNX:\u001b[0m export success ✅ 0.9s, saved as '/content/drive/MyDrive/Turkish Plate Recognition/runs/detect/yolov8n-plate-detection2/weights/best.onnx' (11.7 MB)\n",
            "\n",
            "\u001b[34m\u001b[1mTensorRT:\u001b[0m starting export with TensorRT 10.2.0.post1...\n",
            "[07/29/2024-20:23:29] [TRT] [I] [MemUsageChange] Init CUDA: CPU +2, GPU +0, now: CPU 542, GPU 825 (MiB)\n",
            "[07/29/2024-20:23:30] [TRT] [I] [MemUsageChange] Init builder kernel library: CPU +904, GPU +180, now: CPU 1599, GPU 1005 (MiB)\n",
            "[07/29/2024-20:23:30] [TRT] [I] ----------------------------------------------------------------\n",
            "[07/29/2024-20:23:30] [TRT] [I] Input filename:   /content/drive/MyDrive/Turkish Plate Recognition/runs/detect/yolov8n-plate-detection2/weights/best.onnx\n",
            "[07/29/2024-20:23:30] [TRT] [I] ONNX IR version:  0.0.8\n",
            "[07/29/2024-20:23:30] [TRT] [I] Opset version:    17\n",
            "[07/29/2024-20:23:30] [TRT] [I] Producer name:    pytorch\n",
            "[07/29/2024-20:23:30] [TRT] [I] Producer version: 2.3.1\n",
            "[07/29/2024-20:23:30] [TRT] [I] Domain:           \n",
            "[07/29/2024-20:23:30] [TRT] [I] Model version:    0\n",
            "[07/29/2024-20:23:30] [TRT] [I] Doc string:       \n",
            "[07/29/2024-20:23:30] [TRT] [I] ----------------------------------------------------------------\n",
            "\u001b[34m\u001b[1mTensorRT:\u001b[0m input \"images\" with shape(1, 3, 640, 640) DataType.FLOAT\n",
            "\u001b[34m\u001b[1mTensorRT:\u001b[0m output \"output0\" with shape(1, 5, 8400) DataType.FLOAT\n",
            "\u001b[34m\u001b[1mTensorRT:\u001b[0m building FP16 engine as /content/drive/MyDrive/Turkish Plate Recognition/runs/detect/yolov8n-plate-detection2/weights/best.engine\n",
            "[07/29/2024-20:23:31] [TRT] [I] BuilderFlag::kTF32 is set but hardware does not support TF32. Disabling TF32.\n",
            "[07/29/2024-20:23:31] [TRT] [I] BuilderFlag::kTF32 is set but hardware does not support TF32. Disabling TF32.\n",
            "[07/29/2024-20:23:31] [TRT] [I] Local timing cache in use. Profiling results in this builder pass will not be stored.\n",
            "[07/29/2024-20:28:17] [TRT] [I] Detected 1 inputs and 3 output network tensors.\n",
            "[07/29/2024-20:28:19] [TRT] [I] Total Host Persistent Memory: 361360\n",
            "[07/29/2024-20:28:19] [TRT] [I] Total Device Persistent Memory: 562688\n",
            "[07/29/2024-20:28:19] [TRT] [I] Total Scratch Memory: 0\n",
            "[07/29/2024-20:28:19] [TRT] [I] [BlockAssignment] Started assigning block shifts. This will take 115 steps to complete.\n",
            "[07/29/2024-20:28:19] [TRT] [I] [BlockAssignment] Algorithm ShiftNTopDown took 5.92734ms to assign 8 blocks to 115 nodes requiring 10240512 bytes.\n",
            "[07/29/2024-20:28:19] [TRT] [I] Total Activation Memory: 10240000\n",
            "[07/29/2024-20:28:19] [TRT] [I] Total Weights Memory: 6140032\n",
            "[07/29/2024-20:28:19] [TRT] [I] Engine generation completed in 288.207 seconds.\n",
            "[07/29/2024-20:28:19] [TRT] [I] [MemUsageStats] Peak memory usage of TRT CPU/GPU memory allocators: CPU 0 MiB, GPU 133 MiB\n",
            "[07/29/2024-20:28:19] [TRT] [I] [MemUsageStats] Peak memory usage during Engine building and serialization: CPU: 6124 MiB\n",
            "\u001b[34m\u001b[1mTensorRT:\u001b[0m export success ✅ 291.3s, saved as '/content/drive/MyDrive/Turkish Plate Recognition/runs/detect/yolov8n-plate-detection2/weights/best.engine' (8.1 MB)\n",
            "\n",
            "Export complete (292.5s)\n",
            "Results saved to \u001b[1m/content/drive/MyDrive/Turkish Plate Recognition/runs/detect/yolov8n-plate-detection2/weights\u001b[0m\n",
            "Predict:         yolo predict task=detect model=/content/drive/MyDrive/Turkish Plate Recognition/runs/detect/yolov8n-plate-detection2/weights/best.engine imgsz=640 half \n",
            "Validate:        yolo val task=detect model=/content/drive/MyDrive/Turkish Plate Recognition/runs/detect/yolov8n-plate-detection2/weights/best.engine imgsz=640 data=data/config.yaml half \n",
            "Visualize:       https://netron.app\n",
            "💡 Learn more at https://docs.ultralytics.com/modes/export\n"
          ]
        }
      ],
      "source": [
        "!yolo export model=\"/content/drive/MyDrive/Turkish Plate Recognition/runs/detect/yolov8n-plate-detection2/weights/best.pt\" format=engine half=True workspace=12"
      ]
    },
    {
      "cell_type": "code",
      "source": [
        "!yolo predict task=detect model=/content/drive/MyDrive/Turkish Plate Recognition/runs/detect/yolov8n-plate-detection2/weights/best.engine imgsz=640 half"
      ],
      "metadata": {
        "id": "XDTKqQ2GJfIr"
      },
      "execution_count": null,
      "outputs": []
    },
    {
      "cell_type": "markdown",
      "metadata": {
        "id": "f8ZYA3k2mgz8"
      },
      "source": [
        "## Inference on Image"
      ]
    },
    {
      "cell_type": "code",
      "execution_count": null,
      "metadata": {
        "id": "3DhS9BTRml_z"
      },
      "outputs": [],
      "source": [
        "# Inference Using YOLOv8 Model\n",
        "!yolo detect predict model=yolov8x.pt source=\"https://ultralytics.com/images/bus.jpg\" device=0"
      ]
    },
    {
      "cell_type": "code",
      "execution_count": null,
      "metadata": {
        "id": "-QIl5j75mvyB",
        "colab": {
          "base_uri": "https://localhost:8080/"
        },
        "outputId": "e0aa0b24-3b91-464a-ae58-3057bff26884"
      },
      "outputs": [
        {
          "output_type": "stream",
          "name": "stdout",
          "text": [
            "Ultralytics YOLOv8.2.68 🚀 Python-3.10.12 torch-2.3.1+cu121 CUDA:0 (Tesla T4, 15102MiB)\n",
            "Loading /content/drive/MyDrive/Turkish Plate Recognition/runs/detect/yolov8n-plate-detection2/weights/best.engine for TensorRT inference...\n",
            "[07/29/2024-20:37:24] [TRT] [I] Loaded engine size: 8 MiB\n",
            "[07/29/2024-20:37:24] [TRT] [I] [MemUsageChange] TensorRT-managed allocation in IExecutionContext creation: CPU +0, GPU +10, now: CPU 0, GPU 16 (MiB)\n",
            "\n",
            "image 1/466 /content/drive/MyDrive/Turkish Plate Recognition/data/dataset/images/test/1363.png: 640x640 1 0, 3.2ms\n",
            "image 2/466 /content/drive/MyDrive/Turkish Plate Recognition/data/dataset/images/test/1364.png: 640x640 1 0, 3.2ms\n",
            "image 3/466 /content/drive/MyDrive/Turkish Plate Recognition/data/dataset/images/test/1365.png: 640x640 1 0, 3.2ms\n",
            "image 4/466 /content/drive/MyDrive/Turkish Plate Recognition/data/dataset/images/test/1366.png: 640x640 1 0, 3.2ms\n",
            "image 5/466 /content/drive/MyDrive/Turkish Plate Recognition/data/dataset/images/test/1367.png: 640x640 1 0, 3.4ms\n",
            "image 6/466 /content/drive/MyDrive/Turkish Plate Recognition/data/dataset/images/test/1368.png: 640x640 3 0s, 3.2ms\n",
            "image 7/466 /content/drive/MyDrive/Turkish Plate Recognition/data/dataset/images/test/1369.png: 640x640 1 0, 3.1ms\n",
            "image 8/466 /content/drive/MyDrive/Turkish Plate Recognition/data/dataset/images/test/1370.png: 640x640 1 0, 3.1ms\n",
            "image 9/466 /content/drive/MyDrive/Turkish Plate Recognition/data/dataset/images/test/1371.png: 640x640 1 0, 3.1ms\n",
            "image 10/466 /content/drive/MyDrive/Turkish Plate Recognition/data/dataset/images/test/1372.png: 640x640 1 0, 3.1ms\n",
            "image 11/466 /content/drive/MyDrive/Turkish Plate Recognition/data/dataset/images/test/1373.png: 640x640 1 0, 3.1ms\n",
            "image 12/466 /content/drive/MyDrive/Turkish Plate Recognition/data/dataset/images/test/1374.png: 640x640 1 0, 3.1ms\n",
            "image 13/466 /content/drive/MyDrive/Turkish Plate Recognition/data/dataset/images/test/1375.png: 640x640 1 0, 3.2ms\n",
            "image 14/466 /content/drive/MyDrive/Turkish Plate Recognition/data/dataset/images/test/1376.png: 640x640 1 0, 3.1ms\n",
            "image 15/466 /content/drive/MyDrive/Turkish Plate Recognition/data/dataset/images/test/1377.png: 640x640 1 0, 3.1ms\n",
            "image 16/466 /content/drive/MyDrive/Turkish Plate Recognition/data/dataset/images/test/1378.png: 640x640 1 0, 3.1ms\n",
            "image 17/466 /content/drive/MyDrive/Turkish Plate Recognition/data/dataset/images/test/1379.png: 640x640 1 0, 3.1ms\n",
            "image 18/466 /content/drive/MyDrive/Turkish Plate Recognition/data/dataset/images/test/1380.png: 640x640 1 0, 3.1ms\n",
            "image 19/466 /content/drive/MyDrive/Turkish Plate Recognition/data/dataset/images/test/1381.png: 640x640 1 0, 3.1ms\n",
            "image 20/466 /content/drive/MyDrive/Turkish Plate Recognition/data/dataset/images/test/1382.png: 640x640 1 0, 3.1ms\n",
            "image 21/466 /content/drive/MyDrive/Turkish Plate Recognition/data/dataset/images/test/1383.png: 640x640 1 0, 3.1ms\n",
            "image 22/466 /content/drive/MyDrive/Turkish Plate Recognition/data/dataset/images/test/1384.png: 640x640 1 0, 3.1ms\n",
            "image 23/466 /content/drive/MyDrive/Turkish Plate Recognition/data/dataset/images/test/1385.png: 640x640 1 0, 3.1ms\n",
            "image 24/466 /content/drive/MyDrive/Turkish Plate Recognition/data/dataset/images/test/1386.png: 640x640 1 0, 3.2ms\n",
            "image 25/466 /content/drive/MyDrive/Turkish Plate Recognition/data/dataset/images/test/1387.png: 640x640 1 0, 3.2ms\n",
            "image 26/466 /content/drive/MyDrive/Turkish Plate Recognition/data/dataset/images/test/1388.png: 640x640 1 0, 3.1ms\n",
            "image 27/466 /content/drive/MyDrive/Turkish Plate Recognition/data/dataset/images/test/1389.png: 640x640 1 0, 3.1ms\n",
            "image 28/466 /content/drive/MyDrive/Turkish Plate Recognition/data/dataset/images/test/1390.png: 640x640 1 0, 3.1ms\n",
            "image 29/466 /content/drive/MyDrive/Turkish Plate Recognition/data/dataset/images/test/1391.png: 640x640 1 0, 3.1ms\n",
            "image 30/466 /content/drive/MyDrive/Turkish Plate Recognition/data/dataset/images/test/1392.png: 640x640 1 0, 3.1ms\n",
            "image 31/466 /content/drive/MyDrive/Turkish Plate Recognition/data/dataset/images/test/1393.png: 640x640 1 0, 3.1ms\n",
            "image 32/466 /content/drive/MyDrive/Turkish Plate Recognition/data/dataset/images/test/1394.png: 640x640 1 0, 3.1ms\n",
            "image 33/466 /content/drive/MyDrive/Turkish Plate Recognition/data/dataset/images/test/1395.png: 640x640 1 0, 3.1ms\n",
            "image 34/466 /content/drive/MyDrive/Turkish Plate Recognition/data/dataset/images/test/1396.png: 640x640 1 0, 3.1ms\n",
            "image 35/466 /content/drive/MyDrive/Turkish Plate Recognition/data/dataset/images/test/1397.png: 640x640 1 0, 3.1ms\n",
            "image 36/466 /content/drive/MyDrive/Turkish Plate Recognition/data/dataset/images/test/1398.png: 640x640 1 0, 3.1ms\n",
            "image 37/466 /content/drive/MyDrive/Turkish Plate Recognition/data/dataset/images/test/1399.png: 640x640 3 0s, 3.1ms\n",
            "image 38/466 /content/drive/MyDrive/Turkish Plate Recognition/data/dataset/images/test/1400.png: 640x640 1 0, 3.1ms\n",
            "image 39/466 /content/drive/MyDrive/Turkish Plate Recognition/data/dataset/images/test/1401.png: 640x640 2 0s, 3.1ms\n",
            "image 40/466 /content/drive/MyDrive/Turkish Plate Recognition/data/dataset/images/test/1402.png: 640x640 1 0, 3.1ms\n",
            "image 41/466 /content/drive/MyDrive/Turkish Plate Recognition/data/dataset/images/test/1403.png: 640x640 1 0, 3.1ms\n",
            "image 42/466 /content/drive/MyDrive/Turkish Plate Recognition/data/dataset/images/test/1404.png: 640x640 1 0, 3.1ms\n",
            "image 43/466 /content/drive/MyDrive/Turkish Plate Recognition/data/dataset/images/test/1405.png: 640x640 1 0, 3.1ms\n",
            "image 44/466 /content/drive/MyDrive/Turkish Plate Recognition/data/dataset/images/test/1406.png: 640x640 1 0, 3.1ms\n",
            "image 45/466 /content/drive/MyDrive/Turkish Plate Recognition/data/dataset/images/test/1407.png: 640x640 1 0, 3.1ms\n",
            "image 46/466 /content/drive/MyDrive/Turkish Plate Recognition/data/dataset/images/test/1408.png: 640x640 1 0, 3.1ms\n",
            "image 47/466 /content/drive/MyDrive/Turkish Plate Recognition/data/dataset/images/test/1409.png: 640x640 2 0s, 3.1ms\n",
            "image 48/466 /content/drive/MyDrive/Turkish Plate Recognition/data/dataset/images/test/1410.png: 640x640 1 0, 3.1ms\n",
            "image 49/466 /content/drive/MyDrive/Turkish Plate Recognition/data/dataset/images/test/1411.png: 640x640 1 0, 3.1ms\n",
            "image 50/466 /content/drive/MyDrive/Turkish Plate Recognition/data/dataset/images/test/1412.png: 640x640 1 0, 3.1ms\n",
            "image 51/466 /content/drive/MyDrive/Turkish Plate Recognition/data/dataset/images/test/1413.png: 640x640 1 0, 3.2ms\n",
            "image 52/466 /content/drive/MyDrive/Turkish Plate Recognition/data/dataset/images/test/1414.png: 640x640 1 0, 3.1ms\n",
            "image 53/466 /content/drive/MyDrive/Turkish Plate Recognition/data/dataset/images/test/1415.png: 640x640 1 0, 3.1ms\n",
            "image 54/466 /content/drive/MyDrive/Turkish Plate Recognition/data/dataset/images/test/1416.png: 640x640 1 0, 3.2ms\n",
            "image 55/466 /content/drive/MyDrive/Turkish Plate Recognition/data/dataset/images/test/1417.png: 640x640 1 0, 3.1ms\n",
            "image 56/466 /content/drive/MyDrive/Turkish Plate Recognition/data/dataset/images/test/1418.png: 640x640 3 0s, 3.1ms\n",
            "image 57/466 /content/drive/MyDrive/Turkish Plate Recognition/data/dataset/images/test/1419.png: 640x640 1 0, 3.1ms\n",
            "image 58/466 /content/drive/MyDrive/Turkish Plate Recognition/data/dataset/images/test/1420.png: 640x640 1 0, 3.1ms\n",
            "image 59/466 /content/drive/MyDrive/Turkish Plate Recognition/data/dataset/images/test/1421.png: 640x640 1 0, 3.1ms\n",
            "image 60/466 /content/drive/MyDrive/Turkish Plate Recognition/data/dataset/images/test/1422.png: 640x640 2 0s, 3.1ms\n",
            "image 61/466 /content/drive/MyDrive/Turkish Plate Recognition/data/dataset/images/test/1423.png: 640x640 1 0, 3.1ms\n",
            "image 62/466 /content/drive/MyDrive/Turkish Plate Recognition/data/dataset/images/test/1424.png: 640x640 1 0, 3.1ms\n",
            "image 63/466 /content/drive/MyDrive/Turkish Plate Recognition/data/dataset/images/test/1425.png: 640x640 1 0, 3.1ms\n",
            "image 64/466 /content/drive/MyDrive/Turkish Plate Recognition/data/dataset/images/test/1426.png: 640x640 1 0, 3.1ms\n",
            "image 65/466 /content/drive/MyDrive/Turkish Plate Recognition/data/dataset/images/test/1427.png: 640x640 1 0, 3.1ms\n",
            "image 66/466 /content/drive/MyDrive/Turkish Plate Recognition/data/dataset/images/test/1428.png: 640x640 1 0, 3.1ms\n",
            "image 67/466 /content/drive/MyDrive/Turkish Plate Recognition/data/dataset/images/test/1429.png: 640x640 1 0, 3.1ms\n",
            "image 68/466 /content/drive/MyDrive/Turkish Plate Recognition/data/dataset/images/test/1430.png: 640x640 1 0, 3.1ms\n",
            "image 69/466 /content/drive/MyDrive/Turkish Plate Recognition/data/dataset/images/test/1431.png: 640x640 1 0, 3.1ms\n",
            "image 70/466 /content/drive/MyDrive/Turkish Plate Recognition/data/dataset/images/test/1432.png: 640x640 1 0, 3.1ms\n",
            "image 71/466 /content/drive/MyDrive/Turkish Plate Recognition/data/dataset/images/test/1433.png: 640x640 1 0, 3.1ms\n",
            "image 72/466 /content/drive/MyDrive/Turkish Plate Recognition/data/dataset/images/test/1434.png: 640x640 1 0, 3.1ms\n",
            "image 73/466 /content/drive/MyDrive/Turkish Plate Recognition/data/dataset/images/test/1435.png: 640x640 1 0, 3.1ms\n",
            "image 74/466 /content/drive/MyDrive/Turkish Plate Recognition/data/dataset/images/test/1436.png: 640x640 1 0, 3.1ms\n",
            "image 75/466 /content/drive/MyDrive/Turkish Plate Recognition/data/dataset/images/test/1437.png: 640x640 1 0, 3.1ms\n",
            "image 76/466 /content/drive/MyDrive/Turkish Plate Recognition/data/dataset/images/test/1438.png: 640x640 1 0, 3.1ms\n",
            "image 77/466 /content/drive/MyDrive/Turkish Plate Recognition/data/dataset/images/test/1439.png: 640x640 1 0, 3.1ms\n",
            "image 78/466 /content/drive/MyDrive/Turkish Plate Recognition/data/dataset/images/test/1440.png: 640x640 1 0, 3.1ms\n",
            "image 79/466 /content/drive/MyDrive/Turkish Plate Recognition/data/dataset/images/test/1441.png: 640x640 1 0, 3.1ms\n",
            "image 80/466 /content/drive/MyDrive/Turkish Plate Recognition/data/dataset/images/test/1442.png: 640x640 2 0s, 3.1ms\n",
            "image 81/466 /content/drive/MyDrive/Turkish Plate Recognition/data/dataset/images/test/1443.png: 640x640 1 0, 3.1ms\n",
            "image 82/466 /content/drive/MyDrive/Turkish Plate Recognition/data/dataset/images/test/1444.png: 640x640 1 0, 3.1ms\n",
            "image 83/466 /content/drive/MyDrive/Turkish Plate Recognition/data/dataset/images/test/1445.png: 640x640 1 0, 3.1ms\n",
            "image 84/466 /content/drive/MyDrive/Turkish Plate Recognition/data/dataset/images/test/1446.png: 640x640 1 0, 3.1ms\n",
            "image 85/466 /content/drive/MyDrive/Turkish Plate Recognition/data/dataset/images/test/1447.png: 640x640 1 0, 3.1ms\n",
            "image 86/466 /content/drive/MyDrive/Turkish Plate Recognition/data/dataset/images/test/1448.png: 640x640 1 0, 3.1ms\n",
            "image 87/466 /content/drive/MyDrive/Turkish Plate Recognition/data/dataset/images/test/1449.png: 640x640 1 0, 3.1ms\n",
            "image 88/466 /content/drive/MyDrive/Turkish Plate Recognition/data/dataset/images/test/1450.png: 640x640 1 0, 3.1ms\n",
            "image 89/466 /content/drive/MyDrive/Turkish Plate Recognition/data/dataset/images/test/1451.png: 640x640 1 0, 3.1ms\n",
            "image 90/466 /content/drive/MyDrive/Turkish Plate Recognition/data/dataset/images/test/1452.png: 640x640 1 0, 3.1ms\n",
            "image 91/466 /content/drive/MyDrive/Turkish Plate Recognition/data/dataset/images/test/1453.png: 640x640 3 0s, 3.1ms\n",
            "image 92/466 /content/drive/MyDrive/Turkish Plate Recognition/data/dataset/images/test/1454.png: 640x640 1 0, 3.1ms\n",
            "image 93/466 /content/drive/MyDrive/Turkish Plate Recognition/data/dataset/images/test/1455.png: 640x640 1 0, 3.1ms\n",
            "image 94/466 /content/drive/MyDrive/Turkish Plate Recognition/data/dataset/images/test/1456.png: 640x640 1 0, 3.1ms\n",
            "image 95/466 /content/drive/MyDrive/Turkish Plate Recognition/data/dataset/images/test/1457.png: 640x640 1 0, 3.1ms\n",
            "image 96/466 /content/drive/MyDrive/Turkish Plate Recognition/data/dataset/images/test/1458.png: 640x640 1 0, 3.1ms\n",
            "image 97/466 /content/drive/MyDrive/Turkish Plate Recognition/data/dataset/images/test/1459.png: 640x640 1 0, 3.1ms\n",
            "image 98/466 /content/drive/MyDrive/Turkish Plate Recognition/data/dataset/images/test/1460.png: 640x640 1 0, 3.1ms\n",
            "image 99/466 /content/drive/MyDrive/Turkish Plate Recognition/data/dataset/images/test/1461.png: 640x640 1 0, 3.1ms\n",
            "image 100/466 /content/drive/MyDrive/Turkish Plate Recognition/data/dataset/images/test/1462.png: 640x640 1 0, 3.1ms\n",
            "image 101/466 /content/drive/MyDrive/Turkish Plate Recognition/data/dataset/images/test/1463.png: 640x640 1 0, 3.1ms\n",
            "image 102/466 /content/drive/MyDrive/Turkish Plate Recognition/data/dataset/images/test/1464.png: 640x640 1 0, 3.1ms\n",
            "image 103/466 /content/drive/MyDrive/Turkish Plate Recognition/data/dataset/images/test/1465.png: 640x640 1 0, 3.1ms\n",
            "image 104/466 /content/drive/MyDrive/Turkish Plate Recognition/data/dataset/images/test/1466.png: 640x640 1 0, 3.1ms\n",
            "image 105/466 /content/drive/MyDrive/Turkish Plate Recognition/data/dataset/images/test/1467.png: 640x640 1 0, 3.1ms\n",
            "image 106/466 /content/drive/MyDrive/Turkish Plate Recognition/data/dataset/images/test/1468.png: 640x640 1 0, 3.1ms\n",
            "image 107/466 /content/drive/MyDrive/Turkish Plate Recognition/data/dataset/images/test/1469.png: 640x640 2 0s, 3.1ms\n",
            "image 108/466 /content/drive/MyDrive/Turkish Plate Recognition/data/dataset/images/test/1470.png: 640x640 1 0, 3.1ms\n",
            "image 109/466 /content/drive/MyDrive/Turkish Plate Recognition/data/dataset/images/test/1471.png: 640x640 1 0, 3.1ms\n",
            "image 110/466 /content/drive/MyDrive/Turkish Plate Recognition/data/dataset/images/test/1472.png: 640x640 1 0, 3.1ms\n",
            "image 111/466 /content/drive/MyDrive/Turkish Plate Recognition/data/dataset/images/test/1473.png: 640x640 1 0, 3.2ms\n",
            "image 112/466 /content/drive/MyDrive/Turkish Plate Recognition/data/dataset/images/test/1474.png: 640x640 1 0, 3.1ms\n",
            "image 113/466 /content/drive/MyDrive/Turkish Plate Recognition/data/dataset/images/test/1475.png: 640x640 1 0, 3.1ms\n",
            "image 114/466 /content/drive/MyDrive/Turkish Plate Recognition/data/dataset/images/test/1476.png: 640x640 1 0, 3.1ms\n",
            "image 115/466 /content/drive/MyDrive/Turkish Plate Recognition/data/dataset/images/test/1477.png: 640x640 1 0, 3.1ms\n",
            "image 116/466 /content/drive/MyDrive/Turkish Plate Recognition/data/dataset/images/test/1478.png: 640x640 1 0, 3.1ms\n",
            "image 117/466 /content/drive/MyDrive/Turkish Plate Recognition/data/dataset/images/test/1479.png: 640x640 1 0, 3.1ms\n",
            "image 118/466 /content/drive/MyDrive/Turkish Plate Recognition/data/dataset/images/test/1480.png: 640x640 1 0, 3.1ms\n",
            "image 119/466 /content/drive/MyDrive/Turkish Plate Recognition/data/dataset/images/test/1481.png: 640x640 1 0, 3.1ms\n",
            "image 120/466 /content/drive/MyDrive/Turkish Plate Recognition/data/dataset/images/test/1482.png: 640x640 1 0, 3.1ms\n",
            "image 121/466 /content/drive/MyDrive/Turkish Plate Recognition/data/dataset/images/test/1483.png: 640x640 1 0, 3.1ms\n",
            "image 122/466 /content/drive/MyDrive/Turkish Plate Recognition/data/dataset/images/test/1484.png: 640x640 1 0, 3.1ms\n",
            "image 123/466 /content/drive/MyDrive/Turkish Plate Recognition/data/dataset/images/test/1485.png: 640x640 1 0, 3.1ms\n",
            "image 124/466 /content/drive/MyDrive/Turkish Plate Recognition/data/dataset/images/test/1486.png: 640x640 1 0, 3.1ms\n",
            "image 125/466 /content/drive/MyDrive/Turkish Plate Recognition/data/dataset/images/test/1487.png: 640x640 1 0, 3.1ms\n",
            "image 126/466 /content/drive/MyDrive/Turkish Plate Recognition/data/dataset/images/test/1488.png: 640x640 1 0, 3.1ms\n",
            "image 127/466 /content/drive/MyDrive/Turkish Plate Recognition/data/dataset/images/test/1489.png: 640x640 1 0, 3.1ms\n",
            "image 128/466 /content/drive/MyDrive/Turkish Plate Recognition/data/dataset/images/test/1490.png: 640x640 1 0, 3.2ms\n",
            "image 129/466 /content/drive/MyDrive/Turkish Plate Recognition/data/dataset/images/test/1491.png: 640x640 1 0, 3.2ms\n",
            "image 130/466 /content/drive/MyDrive/Turkish Plate Recognition/data/dataset/images/test/1492.png: 640x640 1 0, 3.1ms\n",
            "image 131/466 /content/drive/MyDrive/Turkish Plate Recognition/data/dataset/images/test/1493.png: 640x640 1 0, 3.2ms\n",
            "image 132/466 /content/drive/MyDrive/Turkish Plate Recognition/data/dataset/images/test/1494.png: 640x640 1 0, 3.2ms\n",
            "image 133/466 /content/drive/MyDrive/Turkish Plate Recognition/data/dataset/images/test/1495.png: 640x640 1 0, 3.1ms\n",
            "image 134/466 /content/drive/MyDrive/Turkish Plate Recognition/data/dataset/images/test/1496.png: 640x640 1 0, 3.1ms\n",
            "image 135/466 /content/drive/MyDrive/Turkish Plate Recognition/data/dataset/images/test/1497.png: 640x640 1 0, 3.1ms\n",
            "image 136/466 /content/drive/MyDrive/Turkish Plate Recognition/data/dataset/images/test/1498.png: 640x640 1 0, 3.1ms\n",
            "image 137/466 /content/drive/MyDrive/Turkish Plate Recognition/data/dataset/images/test/1499.png: 640x640 1 0, 3.1ms\n",
            "image 138/466 /content/drive/MyDrive/Turkish Plate Recognition/data/dataset/images/test/1500.png: 640x640 1 0, 3.2ms\n",
            "image 139/466 /content/drive/MyDrive/Turkish Plate Recognition/data/dataset/images/test/1501.png: 640x640 1 0, 5.1ms\n",
            "image 140/466 /content/drive/MyDrive/Turkish Plate Recognition/data/dataset/images/test/1502.png: 640x640 1 0, 3.1ms\n",
            "image 141/466 /content/drive/MyDrive/Turkish Plate Recognition/data/dataset/images/test/1503.png: 640x640 1 0, 3.2ms\n",
            "image 142/466 /content/drive/MyDrive/Turkish Plate Recognition/data/dataset/images/test/1504.png: 640x640 1 0, 3.1ms\n",
            "image 143/466 /content/drive/MyDrive/Turkish Plate Recognition/data/dataset/images/test/1505.png: 640x640 1 0, 3.1ms\n",
            "image 144/466 /content/drive/MyDrive/Turkish Plate Recognition/data/dataset/images/test/1506.png: 640x640 1 0, 3.1ms\n",
            "image 145/466 /content/drive/MyDrive/Turkish Plate Recognition/data/dataset/images/test/1507.png: 640x640 3 0s, 3.1ms\n",
            "image 146/466 /content/drive/MyDrive/Turkish Plate Recognition/data/dataset/images/test/1508.png: 640x640 1 0, 3.2ms\n",
            "image 147/466 /content/drive/MyDrive/Turkish Plate Recognition/data/dataset/images/test/1509.png: 640x640 1 0, 3.3ms\n",
            "image 148/466 /content/drive/MyDrive/Turkish Plate Recognition/data/dataset/images/test/1510.png: 640x640 1 0, 3.1ms\n",
            "image 149/466 /content/drive/MyDrive/Turkish Plate Recognition/data/dataset/images/test/1511.png: 640x640 1 0, 3.4ms\n",
            "image 150/466 /content/drive/MyDrive/Turkish Plate Recognition/data/dataset/images/test/1512.png: 640x640 1 0, 3.1ms\n",
            "image 151/466 /content/drive/MyDrive/Turkish Plate Recognition/data/dataset/images/test/1513.png: 640x640 1 0, 3.1ms\n",
            "image 152/466 /content/drive/MyDrive/Turkish Plate Recognition/data/dataset/images/test/1514.png: 640x640 1 0, 3.6ms\n",
            "image 153/466 /content/drive/MyDrive/Turkish Plate Recognition/data/dataset/images/test/1515.png: 640x640 1 0, 3.2ms\n",
            "image 154/466 /content/drive/MyDrive/Turkish Plate Recognition/data/dataset/images/test/1516.png: 640x640 1 0, 3.1ms\n",
            "image 155/466 /content/drive/MyDrive/Turkish Plate Recognition/data/dataset/images/test/1517.png: 640x640 1 0, 3.2ms\n",
            "image 156/466 /content/drive/MyDrive/Turkish Plate Recognition/data/dataset/images/test/1518.png: 640x640 1 0, 3.1ms\n",
            "image 157/466 /content/drive/MyDrive/Turkish Plate Recognition/data/dataset/images/test/1519.png: 640x640 1 0, 3.1ms\n",
            "image 158/466 /content/drive/MyDrive/Turkish Plate Recognition/data/dataset/images/test/1520.png: 640x640 1 0, 5.5ms\n",
            "image 159/466 /content/drive/MyDrive/Turkish Plate Recognition/data/dataset/images/test/1521.png: 640x640 3 0s, 3.1ms\n",
            "image 160/466 /content/drive/MyDrive/Turkish Plate Recognition/data/dataset/images/test/1522.png: 640x640 1 0, 3.1ms\n",
            "image 161/466 /content/drive/MyDrive/Turkish Plate Recognition/data/dataset/images/test/1523.png: 640x640 1 0, 3.1ms\n",
            "image 162/466 /content/drive/MyDrive/Turkish Plate Recognition/data/dataset/images/test/1524.png: 640x640 1 0, 3.2ms\n",
            "image 163/466 /content/drive/MyDrive/Turkish Plate Recognition/data/dataset/images/test/1525.png: 640x640 1 0, 3.2ms\n",
            "image 164/466 /content/drive/MyDrive/Turkish Plate Recognition/data/dataset/images/test/1526.png: 640x640 1 0, 3.7ms\n",
            "image 165/466 /content/drive/MyDrive/Turkish Plate Recognition/data/dataset/images/test/1527.png: 640x640 1 0, 3.1ms\n",
            "image 166/466 /content/drive/MyDrive/Turkish Plate Recognition/data/dataset/images/test/1528.png: 640x640 1 0, 3.2ms\n",
            "image 167/466 /content/drive/MyDrive/Turkish Plate Recognition/data/dataset/images/test/1529.png: 640x640 1 0, 3.2ms\n",
            "image 168/466 /content/drive/MyDrive/Turkish Plate Recognition/data/dataset/images/test/1530.png: 640x640 1 0, 3.2ms\n",
            "image 169/466 /content/drive/MyDrive/Turkish Plate Recognition/data/dataset/images/test/1531.png: 640x640 1 0, 3.1ms\n",
            "image 170/466 /content/drive/MyDrive/Turkish Plate Recognition/data/dataset/images/test/1532.png: 640x640 1 0, 3.1ms\n",
            "image 171/466 /content/drive/MyDrive/Turkish Plate Recognition/data/dataset/images/test/1533.png: 640x640 1 0, 3.1ms\n",
            "image 172/466 /content/drive/MyDrive/Turkish Plate Recognition/data/dataset/images/test/1534.png: 640x640 1 0, 3.1ms\n",
            "image 173/466 /content/drive/MyDrive/Turkish Plate Recognition/data/dataset/images/test/1535.png: 640x640 1 0, 3.3ms\n",
            "image 174/466 /content/drive/MyDrive/Turkish Plate Recognition/data/dataset/images/test/1536.png: 640x640 1 0, 3.1ms\n",
            "image 175/466 /content/drive/MyDrive/Turkish Plate Recognition/data/dataset/images/test/1537.png: 640x640 3 0s, 3.1ms\n",
            "image 176/466 /content/drive/MyDrive/Turkish Plate Recognition/data/dataset/images/test/1538.png: 640x640 1 0, 6.0ms\n",
            "image 177/466 /content/drive/MyDrive/Turkish Plate Recognition/data/dataset/images/test/1539.png: 640x640 1 0, 3.1ms\n",
            "image 178/466 /content/drive/MyDrive/Turkish Plate Recognition/data/dataset/images/test/1540.png: 640x640 2 0s, 3.1ms\n",
            "image 179/466 /content/drive/MyDrive/Turkish Plate Recognition/data/dataset/images/test/1541.png: 640x640 1 0, 3.1ms\n",
            "image 180/466 /content/drive/MyDrive/Turkish Plate Recognition/data/dataset/images/test/1542.png: 640x640 1 0, 3.1ms\n",
            "image 181/466 /content/drive/MyDrive/Turkish Plate Recognition/data/dataset/images/test/1543.png: 640x640 1 0, 3.1ms\n",
            "image 182/466 /content/drive/MyDrive/Turkish Plate Recognition/data/dataset/images/test/1544.png: 640x640 1 0, 3.1ms\n",
            "image 183/466 /content/drive/MyDrive/Turkish Plate Recognition/data/dataset/images/test/1545.png: 640x640 1 0, 3.1ms\n",
            "image 184/466 /content/drive/MyDrive/Turkish Plate Recognition/data/dataset/images/test/1546.png: 640x640 1 0, 3.2ms\n",
            "image 185/466 /content/drive/MyDrive/Turkish Plate Recognition/data/dataset/images/test/1547.png: 640x640 1 0, 3.1ms\n",
            "image 186/466 /content/drive/MyDrive/Turkish Plate Recognition/data/dataset/images/test/1548.png: 640x640 1 0, 3.1ms\n",
            "image 187/466 /content/drive/MyDrive/Turkish Plate Recognition/data/dataset/images/test/1549.png: 640x640 1 0, 3.2ms\n",
            "image 188/466 /content/drive/MyDrive/Turkish Plate Recognition/data/dataset/images/test/1550.png: 640x640 1 0, 3.1ms\n",
            "image 189/466 /content/drive/MyDrive/Turkish Plate Recognition/data/dataset/images/test/1551.png: 640x640 1 0, 3.1ms\n",
            "image 190/466 /content/drive/MyDrive/Turkish Plate Recognition/data/dataset/images/test/1552.png: 640x640 1 0, 3.2ms\n",
            "image 191/466 /content/drive/MyDrive/Turkish Plate Recognition/data/dataset/images/test/1553.png: 640x640 1 0, 3.2ms\n",
            "image 192/466 /content/drive/MyDrive/Turkish Plate Recognition/data/dataset/images/test/1554.png: 640x640 1 0, 3.1ms\n",
            "image 193/466 /content/drive/MyDrive/Turkish Plate Recognition/data/dataset/images/test/1555.png: 640x640 1 0, 3.1ms\n",
            "image 194/466 /content/drive/MyDrive/Turkish Plate Recognition/data/dataset/images/test/1556.png: 640x640 1 0, 3.1ms\n",
            "image 195/466 /content/drive/MyDrive/Turkish Plate Recognition/data/dataset/images/test/1907.png: 640x640 1 0, 3.2ms\n",
            "image 196/466 /content/drive/MyDrive/Turkish Plate Recognition/data/dataset/images/test/1908.png: 640x640 (no detections), 3.1ms\n",
            "image 197/466 /content/drive/MyDrive/Turkish Plate Recognition/data/dataset/images/test/1909.png: 640x640 2 0s, 4.6ms\n",
            "image 198/466 /content/drive/MyDrive/Turkish Plate Recognition/data/dataset/images/test/1910.png: 640x640 (no detections), 3.1ms\n",
            "image 199/466 /content/drive/MyDrive/Turkish Plate Recognition/data/dataset/images/test/1911.png: 640x640 2 0s, 3.1ms\n",
            "image 200/466 /content/drive/MyDrive/Turkish Plate Recognition/data/dataset/images/test/1912.png: 640x640 1 0, 3.1ms\n",
            "image 201/466 /content/drive/MyDrive/Turkish Plate Recognition/data/dataset/images/test/1913.png: 640x640 2 0s, 3.1ms\n",
            "image 202/466 /content/drive/MyDrive/Turkish Plate Recognition/data/dataset/images/test/1914.png: 640x640 (no detections), 3.2ms\n",
            "image 203/466 /content/drive/MyDrive/Turkish Plate Recognition/data/dataset/images/test/1915.png: 640x640 1 0, 3.1ms\n",
            "image 204/466 /content/drive/MyDrive/Turkish Plate Recognition/data/dataset/images/test/1916.png: 640x640 1 0, 3.1ms\n",
            "image 205/466 /content/drive/MyDrive/Turkish Plate Recognition/data/dataset/images/test/1917.png: 640x640 2 0s, 3.1ms\n",
            "image 206/466 /content/drive/MyDrive/Turkish Plate Recognition/data/dataset/images/test/1918.png: 640x640 2 0s, 3.1ms\n",
            "image 207/466 /content/drive/MyDrive/Turkish Plate Recognition/data/dataset/images/test/1919.png: 640x640 (no detections), 3.4ms\n",
            "image 208/466 /content/drive/MyDrive/Turkish Plate Recognition/data/dataset/images/test/1920.png: 640x640 (no detections), 3.1ms\n",
            "image 209/466 /content/drive/MyDrive/Turkish Plate Recognition/data/dataset/images/test/1921.png: 640x640 (no detections), 3.1ms\n",
            "image 210/466 /content/drive/MyDrive/Turkish Plate Recognition/data/dataset/images/test/1922.png: 640x640 2 0s, 3.1ms\n",
            "image 211/466 /content/drive/MyDrive/Turkish Plate Recognition/data/dataset/images/test/1923.png: 640x640 (no detections), 3.1ms\n",
            "image 212/466 /content/drive/MyDrive/Turkish Plate Recognition/data/dataset/images/test/1924.png: 640x640 1 0, 3.1ms\n",
            "image 213/466 /content/drive/MyDrive/Turkish Plate Recognition/data/dataset/images/test/1925.png: 640x640 (no detections), 3.1ms\n",
            "image 214/466 /content/drive/MyDrive/Turkish Plate Recognition/data/dataset/images/test/1926.png: 640x640 (no detections), 3.1ms\n",
            "image 215/466 /content/drive/MyDrive/Turkish Plate Recognition/data/dataset/images/test/1927.png: 640x640 2 0s, 3.1ms\n",
            "image 216/466 /content/drive/MyDrive/Turkish Plate Recognition/data/dataset/images/test/1928.png: 640x640 (no detections), 3.1ms\n",
            "image 217/466 /content/drive/MyDrive/Turkish Plate Recognition/data/dataset/images/test/1929.png: 640x640 (no detections), 3.1ms\n",
            "image 218/466 /content/drive/MyDrive/Turkish Plate Recognition/data/dataset/images/test/1930.png: 640x640 2 0s, 3.1ms\n",
            "image 219/466 /content/drive/MyDrive/Turkish Plate Recognition/data/dataset/images/test/1931.png: 640x640 (no detections), 3.1ms\n",
            "image 220/466 /content/drive/MyDrive/Turkish Plate Recognition/data/dataset/images/test/1932.png: 640x640 (no detections), 3.1ms\n",
            "image 221/466 /content/drive/MyDrive/Turkish Plate Recognition/data/dataset/images/test/1933.png: 640x640 1 0, 3.1ms\n",
            "image 222/466 /content/drive/MyDrive/Turkish Plate Recognition/data/dataset/images/test/1934.png: 640x640 (no detections), 3.1ms\n",
            "image 223/466 /content/drive/MyDrive/Turkish Plate Recognition/data/dataset/images/test/1935.png: 640x640 (no detections), 3.1ms\n",
            "image 224/466 /content/drive/MyDrive/Turkish Plate Recognition/data/dataset/images/test/1936.png: 640x640 1 0, 3.1ms\n",
            "image 225/466 /content/drive/MyDrive/Turkish Plate Recognition/data/dataset/images/test/1937.png: 640x640 1 0, 3.1ms\n",
            "image 226/466 /content/drive/MyDrive/Turkish Plate Recognition/data/dataset/images/test/1938.png: 640x640 2 0s, 3.1ms\n",
            "image 227/466 /content/drive/MyDrive/Turkish Plate Recognition/data/dataset/images/test/1939.png: 640x640 (no detections), 3.0ms\n",
            "image 228/466 /content/drive/MyDrive/Turkish Plate Recognition/data/dataset/images/test/1940.png: 640x640 (no detections), 3.1ms\n",
            "image 229/466 /content/drive/MyDrive/Turkish Plate Recognition/data/dataset/images/test/1941.png: 640x640 (no detections), 3.1ms\n",
            "image 230/466 /content/drive/MyDrive/Turkish Plate Recognition/data/dataset/images/test/1942.png: 640x640 (no detections), 3.1ms\n",
            "image 231/466 /content/drive/MyDrive/Turkish Plate Recognition/data/dataset/images/test/1943.png: 640x640 (no detections), 3.1ms\n",
            "image 232/466 /content/drive/MyDrive/Turkish Plate Recognition/data/dataset/images/test/1944.png: 640x640 (no detections), 3.1ms\n",
            "image 233/466 /content/drive/MyDrive/Turkish Plate Recognition/data/dataset/images/test/1945.png: 640x640 (no detections), 3.1ms\n",
            "image 234/466 /content/drive/MyDrive/Turkish Plate Recognition/data/dataset/images/test/1946.png: 640x640 2 0s, 3.1ms\n",
            "image 235/466 /content/drive/MyDrive/Turkish Plate Recognition/data/dataset/images/test/1947.png: 640x640 2 0s, 3.1ms\n",
            "image 236/466 /content/drive/MyDrive/Turkish Plate Recognition/data/dataset/images/test/1948.png: 640x640 1 0, 3.1ms\n",
            "image 237/466 /content/drive/MyDrive/Turkish Plate Recognition/data/dataset/images/test/1949.png: 640x640 2 0s, 3.1ms\n",
            "image 238/466 /content/drive/MyDrive/Turkish Plate Recognition/data/dataset/images/test/1950.png: 640x640 (no detections), 3.1ms\n",
            "image 239/466 /content/drive/MyDrive/Turkish Plate Recognition/data/dataset/images/test/1951.png: 640x640 1 0, 3.1ms\n",
            "image 240/466 /content/drive/MyDrive/Turkish Plate Recognition/data/dataset/images/test/1952.png: 640x640 (no detections), 3.1ms\n",
            "image 241/466 /content/drive/MyDrive/Turkish Plate Recognition/data/dataset/images/test/1953.png: 640x640 1 0, 3.1ms\n",
            "image 242/466 /content/drive/MyDrive/Turkish Plate Recognition/data/dataset/images/test/1954.png: 640x640 1 0, 3.1ms\n",
            "image 243/466 /content/drive/MyDrive/Turkish Plate Recognition/data/dataset/images/test/1955.png: 640x640 (no detections), 3.1ms\n",
            "image 244/466 /content/drive/MyDrive/Turkish Plate Recognition/data/dataset/images/test/1956.png: 640x640 1 0, 3.0ms\n",
            "image 245/466 /content/drive/MyDrive/Turkish Plate Recognition/data/dataset/images/test/1957.png: 640x640 2 0s, 3.1ms\n",
            "image 246/466 /content/drive/MyDrive/Turkish Plate Recognition/data/dataset/images/test/1958.png: 640x640 (no detections), 3.1ms\n",
            "image 247/466 /content/drive/MyDrive/Turkish Plate Recognition/data/dataset/images/test/1959.png: 640x640 1 0, 3.1ms\n",
            "image 248/466 /content/drive/MyDrive/Turkish Plate Recognition/data/dataset/images/test/1960.png: 640x640 1 0, 3.1ms\n",
            "image 249/466 /content/drive/MyDrive/Turkish Plate Recognition/data/dataset/images/test/1961.png: 640x640 (no detections), 3.0ms\n",
            "image 250/466 /content/drive/MyDrive/Turkish Plate Recognition/data/dataset/images/test/1962.png: 640x640 3 0s, 3.1ms\n",
            "image 251/466 /content/drive/MyDrive/Turkish Plate Recognition/data/dataset/images/test/1963.png: 640x640 2 0s, 3.1ms\n",
            "image 252/466 /content/drive/MyDrive/Turkish Plate Recognition/data/dataset/images/test/1964.png: 640x640 2 0s, 3.1ms\n",
            "image 253/466 /content/drive/MyDrive/Turkish Plate Recognition/data/dataset/images/test/1965.png: 640x640 (no detections), 3.1ms\n",
            "image 254/466 /content/drive/MyDrive/Turkish Plate Recognition/data/dataset/images/test/1966.png: 640x640 (no detections), 3.1ms\n",
            "image 255/466 /content/drive/MyDrive/Turkish Plate Recognition/data/dataset/images/test/1967.png: 640x640 1 0, 3.1ms\n",
            "image 256/466 /content/drive/MyDrive/Turkish Plate Recognition/data/dataset/images/test/1968.png: 640x640 (no detections), 3.1ms\n",
            "image 257/466 /content/drive/MyDrive/Turkish Plate Recognition/data/dataset/images/test/1969.png: 640x640 1 0, 3.1ms\n",
            "image 258/466 /content/drive/MyDrive/Turkish Plate Recognition/data/dataset/images/test/1970.png: 640x640 2 0s, 3.1ms\n",
            "image 259/466 /content/drive/MyDrive/Turkish Plate Recognition/data/dataset/images/test/1971.png: 640x640 1 0, 3.1ms\n",
            "image 260/466 /content/drive/MyDrive/Turkish Plate Recognition/data/dataset/images/test/1972.png: 640x640 (no detections), 3.1ms\n",
            "image 261/466 /content/drive/MyDrive/Turkish Plate Recognition/data/dataset/images/test/1973.png: 640x640 (no detections), 3.1ms\n",
            "image 262/466 /content/drive/MyDrive/Turkish Plate Recognition/data/dataset/images/test/1974.png: 640x640 (no detections), 3.1ms\n",
            "image 263/466 /content/drive/MyDrive/Turkish Plate Recognition/data/dataset/images/test/1975.png: 640x640 1 0, 3.1ms\n",
            "image 264/466 /content/drive/MyDrive/Turkish Plate Recognition/data/dataset/images/test/1976.png: 640x640 1 0, 3.1ms\n",
            "image 265/466 /content/drive/MyDrive/Turkish Plate Recognition/data/dataset/images/test/1977.png: 640x640 (no detections), 3.1ms\n",
            "image 266/466 /content/drive/MyDrive/Turkish Plate Recognition/data/dataset/images/test/1978.png: 640x640 (no detections), 3.1ms\n",
            "image 267/466 /content/drive/MyDrive/Turkish Plate Recognition/data/dataset/images/test/1979.png: 640x640 1 0, 3.1ms\n",
            "image 268/466 /content/drive/MyDrive/Turkish Plate Recognition/data/dataset/images/test/1980.png: 640x640 (no detections), 3.1ms\n",
            "image 269/466 /content/drive/MyDrive/Turkish Plate Recognition/data/dataset/images/test/1981.png: 640x640 (no detections), 3.1ms\n",
            "image 270/466 /content/drive/MyDrive/Turkish Plate Recognition/data/dataset/images/test/1982.png: 640x640 1 0, 3.1ms\n",
            "image 271/466 /content/drive/MyDrive/Turkish Plate Recognition/data/dataset/images/test/1983.png: 640x640 (no detections), 3.1ms\n",
            "image 272/466 /content/drive/MyDrive/Turkish Plate Recognition/data/dataset/images/test/1984.png: 640x640 1 0, 3.1ms\n",
            "image 273/466 /content/drive/MyDrive/Turkish Plate Recognition/data/dataset/images/test/1985.png: 640x640 (no detections), 3.1ms\n",
            "image 274/466 /content/drive/MyDrive/Turkish Plate Recognition/data/dataset/images/test/1986.png: 640x640 1 0, 3.1ms\n",
            "image 275/466 /content/drive/MyDrive/Turkish Plate Recognition/data/dataset/images/test/1987.png: 640x640 (no detections), 3.1ms\n",
            "image 276/466 /content/drive/MyDrive/Turkish Plate Recognition/data/dataset/images/test/1988.png: 640x640 1 0, 3.1ms\n",
            "image 277/466 /content/drive/MyDrive/Turkish Plate Recognition/data/dataset/images/test/1989.png: 640x640 1 0, 3.0ms\n",
            "image 278/466 /content/drive/MyDrive/Turkish Plate Recognition/data/dataset/images/test/1990.png: 640x640 2 0s, 3.1ms\n",
            "image 279/466 /content/drive/MyDrive/Turkish Plate Recognition/data/dataset/images/test/1991.png: 640x640 (no detections), 3.1ms\n",
            "image 280/466 /content/drive/MyDrive/Turkish Plate Recognition/data/dataset/images/test/1992.png: 640x640 (no detections), 3.0ms\n",
            "image 281/466 /content/drive/MyDrive/Turkish Plate Recognition/data/dataset/images/test/1993.png: 640x640 (no detections), 3.1ms\n",
            "image 282/466 /content/drive/MyDrive/Turkish Plate Recognition/data/dataset/images/test/1994.png: 640x640 (no detections), 3.1ms\n",
            "image 283/466 /content/drive/MyDrive/Turkish Plate Recognition/data/dataset/images/test/1995.png: 640x640 1 0, 3.1ms\n",
            "image 284/466 /content/drive/MyDrive/Turkish Plate Recognition/data/dataset/images/test/1996.png: 640x640 1 0, 3.1ms\n",
            "image 285/466 /content/drive/MyDrive/Turkish Plate Recognition/data/dataset/images/test/1997.png: 640x640 (no detections), 3.1ms\n",
            "image 286/466 /content/drive/MyDrive/Turkish Plate Recognition/data/dataset/images/test/1998.png: 640x640 2 0s, 3.1ms\n",
            "image 287/466 /content/drive/MyDrive/Turkish Plate Recognition/data/dataset/images/test/1999.png: 640x640 1 0, 3.1ms\n",
            "image 288/466 /content/drive/MyDrive/Turkish Plate Recognition/data/dataset/images/test/2000.png: 640x640 1 0, 3.1ms\n",
            "image 289/466 /content/drive/MyDrive/Turkish Plate Recognition/data/dataset/images/test/2001.png: 640x640 (no detections), 3.1ms\n",
            "image 290/466 /content/drive/MyDrive/Turkish Plate Recognition/data/dataset/images/test/2002.png: 640x640 (no detections), 3.1ms\n",
            "image 291/466 /content/drive/MyDrive/Turkish Plate Recognition/data/dataset/images/test/2003.png: 640x640 1 0, 3.1ms\n",
            "image 292/466 /content/drive/MyDrive/Turkish Plate Recognition/data/dataset/images/test/2004.png: 640x640 2 0s, 3.1ms\n",
            "image 293/466 /content/drive/MyDrive/Turkish Plate Recognition/data/dataset/images/test/2005.png: 640x640 2 0s, 3.1ms\n",
            "image 294/466 /content/drive/MyDrive/Turkish Plate Recognition/data/dataset/images/test/2006.png: 640x640 1 0, 3.1ms\n",
            "image 295/466 /content/drive/MyDrive/Turkish Plate Recognition/data/dataset/images/test/2007.png: 640x640 2 0s, 3.1ms\n",
            "image 296/466 /content/drive/MyDrive/Turkish Plate Recognition/data/dataset/images/test/2008.png: 640x640 (no detections), 3.1ms\n",
            "image 297/466 /content/drive/MyDrive/Turkish Plate Recognition/data/dataset/images/test/2009.png: 640x640 2 0s, 3.1ms\n",
            "image 298/466 /content/drive/MyDrive/Turkish Plate Recognition/data/dataset/images/test/2010.png: 640x640 1 0, 3.1ms\n",
            "image 299/466 /content/drive/MyDrive/Turkish Plate Recognition/data/dataset/images/test/2011.png: 640x640 (no detections), 3.1ms\n",
            "image 300/466 /content/drive/MyDrive/Turkish Plate Recognition/data/dataset/images/test/2012.png: 640x640 (no detections), 3.0ms\n",
            "image 301/466 /content/drive/MyDrive/Turkish Plate Recognition/data/dataset/images/test/2013.png: 640x640 1 0, 3.1ms\n",
            "image 302/466 /content/drive/MyDrive/Turkish Plate Recognition/data/dataset/images/test/2014.png: 640x640 2 0s, 3.1ms\n",
            "image 303/466 /content/drive/MyDrive/Turkish Plate Recognition/data/dataset/images/test/2015.png: 640x640 1 0, 3.1ms\n",
            "image 304/466 /content/drive/MyDrive/Turkish Plate Recognition/data/dataset/images/test/2016.png: 640x640 1 0, 3.1ms\n",
            "image 305/466 /content/drive/MyDrive/Turkish Plate Recognition/data/dataset/images/test/2017.png: 640x640 1 0, 3.1ms\n",
            "image 306/466 /content/drive/MyDrive/Turkish Plate Recognition/data/dataset/images/test/2018.png: 640x640 5 0s, 3.1ms\n",
            "image 307/466 /content/drive/MyDrive/Turkish Plate Recognition/data/dataset/images/test/2019.png: 640x640 (no detections), 3.1ms\n",
            "image 308/466 /content/drive/MyDrive/Turkish Plate Recognition/data/dataset/images/test/2020.png: 640x640 1 0, 3.1ms\n",
            "image 309/466 /content/drive/MyDrive/Turkish Plate Recognition/data/dataset/images/test/2021.png: 640x640 (no detections), 3.1ms\n",
            "image 310/466 /content/drive/MyDrive/Turkish Plate Recognition/data/dataset/images/test/2022.png: 640x640 (no detections), 3.1ms\n",
            "image 311/466 /content/drive/MyDrive/Turkish Plate Recognition/data/dataset/images/test/2023.png: 640x640 (no detections), 3.1ms\n",
            "image 312/466 /content/drive/MyDrive/Turkish Plate Recognition/data/dataset/images/test/2024.png: 640x640 (no detections), 3.1ms\n",
            "image 313/466 /content/drive/MyDrive/Turkish Plate Recognition/data/dataset/images/test/2025.png: 640x640 1 0, 3.1ms\n",
            "image 314/466 /content/drive/MyDrive/Turkish Plate Recognition/data/dataset/images/test/2026.png: 640x640 (no detections), 3.1ms\n",
            "image 315/466 /content/drive/MyDrive/Turkish Plate Recognition/data/dataset/images/test/2027.png: 640x640 2 0s, 3.1ms\n",
            "image 316/466 /content/drive/MyDrive/Turkish Plate Recognition/data/dataset/images/test/2028.png: 640x640 2 0s, 3.1ms\n",
            "image 317/466 /content/drive/MyDrive/Turkish Plate Recognition/data/dataset/images/test/2029.png: 640x640 1 0, 3.2ms\n",
            "image 318/466 /content/drive/MyDrive/Turkish Plate Recognition/data/dataset/images/test/2030.png: 640x640 2 0s, 3.2ms\n",
            "image 319/466 /content/drive/MyDrive/Turkish Plate Recognition/data/dataset/images/test/2031.png: 640x640 (no detections), 3.1ms\n",
            "image 320/466 /content/drive/MyDrive/Turkish Plate Recognition/data/dataset/images/test/2032.png: 640x640 1 0, 3.1ms\n",
            "image 321/466 /content/drive/MyDrive/Turkish Plate Recognition/data/dataset/images/test/2033.png: 640x640 1 0, 3.1ms\n",
            "image 322/466 /content/drive/MyDrive/Turkish Plate Recognition/data/dataset/images/test/2034.png: 640x640 1 0, 3.1ms\n",
            "image 323/466 /content/drive/MyDrive/Turkish Plate Recognition/data/dataset/images/test/2035.png: 640x640 1 0, 3.1ms\n",
            "image 324/466 /content/drive/MyDrive/Turkish Plate Recognition/data/dataset/images/test/2036.png: 640x640 (no detections), 3.1ms\n",
            "image 325/466 /content/drive/MyDrive/Turkish Plate Recognition/data/dataset/images/test/2037.png: 640x640 2 0s, 3.1ms\n",
            "image 326/466 /content/drive/MyDrive/Turkish Plate Recognition/data/dataset/images/test/2038.png: 640x640 (no detections), 3.1ms\n",
            "image 327/466 /content/drive/MyDrive/Turkish Plate Recognition/data/dataset/images/test/2039.png: 640x640 1 0, 3.1ms\n",
            "image 328/466 /content/drive/MyDrive/Turkish Plate Recognition/data/dataset/images/test/2040.png: 640x640 1 0, 3.1ms\n",
            "image 329/466 /content/drive/MyDrive/Turkish Plate Recognition/data/dataset/images/test/2041.png: 640x640 (no detections), 3.1ms\n",
            "image 330/466 /content/drive/MyDrive/Turkish Plate Recognition/data/dataset/images/test/2042.png: 640x640 (no detections), 3.2ms\n",
            "image 331/466 /content/drive/MyDrive/Turkish Plate Recognition/data/dataset/images/test/2043.png: 640x640 (no detections), 3.5ms\n",
            "image 332/466 /content/drive/MyDrive/Turkish Plate Recognition/data/dataset/images/test/2044.png: 640x640 (no detections), 3.2ms\n",
            "image 333/466 /content/drive/MyDrive/Turkish Plate Recognition/data/dataset/images/test/2045.png: 640x640 (no detections), 3.6ms\n",
            "image 334/466 /content/drive/MyDrive/Turkish Plate Recognition/data/dataset/images/test/2046.png: 640x640 3 0s, 3.8ms\n",
            "image 335/466 /content/drive/MyDrive/Turkish Plate Recognition/data/dataset/images/test/2047.png: 640x640 (no detections), 3.4ms\n",
            "image 336/466 /content/drive/MyDrive/Turkish Plate Recognition/data/dataset/images/test/2048.png: 640x640 (no detections), 3.1ms\n",
            "image 337/466 /content/drive/MyDrive/Turkish Plate Recognition/data/dataset/images/test/2049.png: 640x640 (no detections), 3.2ms\n",
            "image 338/466 /content/drive/MyDrive/Turkish Plate Recognition/data/dataset/images/test/2050.png: 640x640 (no detections), 3.3ms\n",
            "image 339/466 /content/drive/MyDrive/Turkish Plate Recognition/data/dataset/images/test/2051.png: 640x640 1 0, 3.3ms\n",
            "image 340/466 /content/drive/MyDrive/Turkish Plate Recognition/data/dataset/images/test/2052.png: 640x640 1 0, 3.1ms\n",
            "image 341/466 /content/drive/MyDrive/Turkish Plate Recognition/data/dataset/images/test/2053.png: 640x640 2 0s, 3.1ms\n",
            "image 342/466 /content/drive/MyDrive/Turkish Plate Recognition/data/dataset/images/test/2054.png: 640x640 2 0s, 3.2ms\n",
            "image 343/466 /content/drive/MyDrive/Turkish Plate Recognition/data/dataset/images/test/2055.png: 640x640 (no detections), 3.2ms\n",
            "image 344/466 /content/drive/MyDrive/Turkish Plate Recognition/data/dataset/images/test/2056.png: 640x640 3 0s, 3.1ms\n",
            "image 345/466 /content/drive/MyDrive/Turkish Plate Recognition/data/dataset/images/test/2057.png: 640x640 2 0s, 3.1ms\n",
            "image 346/466 /content/drive/MyDrive/Turkish Plate Recognition/data/dataset/images/test/2058.png: 640x640 1 0, 3.1ms\n",
            "image 347/466 /content/drive/MyDrive/Turkish Plate Recognition/data/dataset/images/test/2059.png: 640x640 (no detections), 3.1ms\n",
            "image 348/466 /content/drive/MyDrive/Turkish Plate Recognition/data/dataset/images/test/2060.png: 640x640 1 0, 3.1ms\n",
            "image 349/466 /content/drive/MyDrive/Turkish Plate Recognition/data/dataset/images/test/2061.png: 640x640 2 0s, 3.1ms\n",
            "image 350/466 /content/drive/MyDrive/Turkish Plate Recognition/data/dataset/images/test/2062.png: 640x640 (no detections), 3.1ms\n",
            "image 351/466 /content/drive/MyDrive/Turkish Plate Recognition/data/dataset/images/test/2063.png: 640x640 (no detections), 3.1ms\n",
            "image 352/466 /content/drive/MyDrive/Turkish Plate Recognition/data/dataset/images/test/2064.png: 640x640 (no detections), 3.1ms\n",
            "image 353/466 /content/drive/MyDrive/Turkish Plate Recognition/data/dataset/images/test/2065.png: 640x640 (no detections), 3.1ms\n",
            "image 354/466 /content/drive/MyDrive/Turkish Plate Recognition/data/dataset/images/test/2066.png: 640x640 1 0, 3.1ms\n",
            "image 355/466 /content/drive/MyDrive/Turkish Plate Recognition/data/dataset/images/test/2067.png: 640x640 (no detections), 3.1ms\n",
            "image 356/466 /content/drive/MyDrive/Turkish Plate Recognition/data/dataset/images/test/2068.png: 640x640 1 0, 3.1ms\n",
            "image 357/466 /content/drive/MyDrive/Turkish Plate Recognition/data/dataset/images/test/2069.png: 640x640 (no detections), 3.1ms\n",
            "image 358/466 /content/drive/MyDrive/Turkish Plate Recognition/data/dataset/images/test/2070.png: 640x640 (no detections), 3.5ms\n",
            "image 359/466 /content/drive/MyDrive/Turkish Plate Recognition/data/dataset/images/test/2071.png: 640x640 (no detections), 3.1ms\n",
            "image 360/466 /content/drive/MyDrive/Turkish Plate Recognition/data/dataset/images/test/2072.png: 640x640 1 0, 3.1ms\n",
            "image 361/466 /content/drive/MyDrive/Turkish Plate Recognition/data/dataset/images/test/2073.png: 640x640 1 0, 3.1ms\n",
            "image 362/466 /content/drive/MyDrive/Turkish Plate Recognition/data/dataset/images/test/2074.png: 640x640 (no detections), 3.1ms\n",
            "image 363/466 /content/drive/MyDrive/Turkish Plate Recognition/data/dataset/images/test/2075.png: 640x640 (no detections), 3.1ms\n",
            "image 364/466 /content/drive/MyDrive/Turkish Plate Recognition/data/dataset/images/test/2076.png: 640x640 (no detections), 3.1ms\n",
            "image 365/466 /content/drive/MyDrive/Turkish Plate Recognition/data/dataset/images/test/2077.png: 640x640 1 0, 3.1ms\n",
            "image 366/466 /content/drive/MyDrive/Turkish Plate Recognition/data/dataset/images/test/2078.png: 640x640 (no detections), 3.1ms\n",
            "image 367/466 /content/drive/MyDrive/Turkish Plate Recognition/data/dataset/images/test/2079.png: 640x640 (no detections), 3.1ms\n",
            "image 368/466 /content/drive/MyDrive/Turkish Plate Recognition/data/dataset/images/test/2080.png: 640x640 (no detections), 3.1ms\n",
            "image 369/466 /content/drive/MyDrive/Turkish Plate Recognition/data/dataset/images/test/2081.png: 640x640 1 0, 3.1ms\n",
            "image 370/466 /content/drive/MyDrive/Turkish Plate Recognition/data/dataset/images/test/2082.png: 640x640 (no detections), 3.9ms\n",
            "image 371/466 /content/drive/MyDrive/Turkish Plate Recognition/data/dataset/images/test/2083.png: 640x640 2 0s, 3.1ms\n",
            "image 372/466 /content/drive/MyDrive/Turkish Plate Recognition/data/dataset/images/test/2084.png: 640x640 2 0s, 3.1ms\n",
            "image 373/466 /content/drive/MyDrive/Turkish Plate Recognition/data/dataset/images/test/2085.png: 640x640 2 0s, 3.0ms\n",
            "image 374/466 /content/drive/MyDrive/Turkish Plate Recognition/data/dataset/images/test/2086.png: 640x640 (no detections), 3.1ms\n",
            "image 375/466 /content/drive/MyDrive/Turkish Plate Recognition/data/dataset/images/test/2087.png: 640x640 (no detections), 3.1ms\n",
            "image 376/466 /content/drive/MyDrive/Turkish Plate Recognition/data/dataset/images/test/2088.png: 640x640 2 0s, 3.1ms\n",
            "image 377/466 /content/drive/MyDrive/Turkish Plate Recognition/data/dataset/images/test/2089.png: 640x640 2 0s, 3.1ms\n",
            "image 378/466 /content/drive/MyDrive/Turkish Plate Recognition/data/dataset/images/test/2090.png: 640x640 (no detections), 3.1ms\n",
            "image 379/466 /content/drive/MyDrive/Turkish Plate Recognition/data/dataset/images/test/2091.png: 640x640 (no detections), 3.1ms\n",
            "image 380/466 /content/drive/MyDrive/Turkish Plate Recognition/data/dataset/images/test/2092.png: 640x640 (no detections), 3.1ms\n",
            "image 381/466 /content/drive/MyDrive/Turkish Plate Recognition/data/dataset/images/test/2093.png: 640x640 1 0, 3.1ms\n",
            "image 382/466 /content/drive/MyDrive/Turkish Plate Recognition/data/dataset/images/test/2094.png: 640x640 (no detections), 3.1ms\n",
            "image 383/466 /content/drive/MyDrive/Turkish Plate Recognition/data/dataset/images/test/2095.png: 640x640 (no detections), 3.1ms\n",
            "image 384/466 /content/drive/MyDrive/Turkish Plate Recognition/data/dataset/images/test/2096.png: 640x640 2 0s, 3.1ms\n",
            "image 385/466 /content/drive/MyDrive/Turkish Plate Recognition/data/dataset/images/test/2097.png: 640x640 2 0s, 3.1ms\n",
            "image 386/466 /content/drive/MyDrive/Turkish Plate Recognition/data/dataset/images/test/2098.png: 640x640 2 0s, 3.1ms\n",
            "image 387/466 /content/drive/MyDrive/Turkish Plate Recognition/data/dataset/images/test/2099.png: 640x640 1 0, 3.1ms\n",
            "image 388/466 /content/drive/MyDrive/Turkish Plate Recognition/data/dataset/images/test/2100.png: 640x640 1 0, 3.0ms\n",
            "image 389/466 /content/drive/MyDrive/Turkish Plate Recognition/data/dataset/images/test/2101.png: 640x640 (no detections), 3.1ms\n",
            "image 390/466 /content/drive/MyDrive/Turkish Plate Recognition/data/dataset/images/test/2102.png: 640x640 (no detections), 3.1ms\n",
            "image 391/466 /content/drive/MyDrive/Turkish Plate Recognition/data/dataset/images/test/2103.png: 640x640 1 0, 3.1ms\n",
            "image 392/466 /content/drive/MyDrive/Turkish Plate Recognition/data/dataset/images/test/2104.png: 640x640 2 0s, 3.1ms\n",
            "image 393/466 /content/drive/MyDrive/Turkish Plate Recognition/data/dataset/images/test/2105.png: 640x640 2 0s, 3.1ms\n",
            "image 394/466 /content/drive/MyDrive/Turkish Plate Recognition/data/dataset/images/test/2106.png: 640x640 (no detections), 3.1ms\n",
            "image 395/466 /content/drive/MyDrive/Turkish Plate Recognition/data/dataset/images/test/2107.png: 640x640 (no detections), 3.1ms\n",
            "image 396/466 /content/drive/MyDrive/Turkish Plate Recognition/data/dataset/images/test/2108.png: 640x640 1 0, 3.1ms\n",
            "image 397/466 /content/drive/MyDrive/Turkish Plate Recognition/data/dataset/images/test/2109.png: 640x640 2 0s, 3.1ms\n",
            "image 398/466 /content/drive/MyDrive/Turkish Plate Recognition/data/dataset/images/test/2110.png: 640x640 (no detections), 3.1ms\n",
            "image 399/466 /content/drive/MyDrive/Turkish Plate Recognition/data/dataset/images/test/2111.png: 640x640 (no detections), 3.1ms\n",
            "image 400/466 /content/drive/MyDrive/Turkish Plate Recognition/data/dataset/images/test/2112.png: 640x640 1 0, 3.1ms\n",
            "image 401/466 /content/drive/MyDrive/Turkish Plate Recognition/data/dataset/images/test/2113.png: 640x640 1 0, 3.1ms\n",
            "image 402/466 /content/drive/MyDrive/Turkish Plate Recognition/data/dataset/images/test/2114.png: 640x640 1 0, 3.1ms\n",
            "image 403/466 /content/drive/MyDrive/Turkish Plate Recognition/data/dataset/images/test/2115.png: 640x640 (no detections), 3.1ms\n",
            "image 404/466 /content/drive/MyDrive/Turkish Plate Recognition/data/dataset/images/test/2116.png: 640x640 1 0, 3.1ms\n",
            "image 405/466 /content/drive/MyDrive/Turkish Plate Recognition/data/dataset/images/test/2117.png: 640x640 1 0, 3.1ms\n",
            "image 406/466 /content/drive/MyDrive/Turkish Plate Recognition/data/dataset/images/test/2118.png: 640x640 1 0, 3.1ms\n",
            "image 407/466 /content/drive/MyDrive/Turkish Plate Recognition/data/dataset/images/test/2119.png: 640x640 1 0, 3.1ms\n",
            "image 408/466 /content/drive/MyDrive/Turkish Plate Recognition/data/dataset/images/test/2120.png: 640x640 2 0s, 3.1ms\n",
            "image 409/466 /content/drive/MyDrive/Turkish Plate Recognition/data/dataset/images/test/2121.png: 640x640 1 0, 3.1ms\n",
            "image 410/466 /content/drive/MyDrive/Turkish Plate Recognition/data/dataset/images/test/2122.png: 640x640 2 0s, 3.1ms\n",
            "image 411/466 /content/drive/MyDrive/Turkish Plate Recognition/data/dataset/images/test/2123.png: 640x640 (no detections), 3.1ms\n",
            "image 412/466 /content/drive/MyDrive/Turkish Plate Recognition/data/dataset/images/test/2124.png: 640x640 2 0s, 3.1ms\n",
            "image 413/466 /content/drive/MyDrive/Turkish Plate Recognition/data/dataset/images/test/2125.png: 640x640 3 0s, 3.1ms\n",
            "image 414/466 /content/drive/MyDrive/Turkish Plate Recognition/data/dataset/images/test/2126.png: 640x640 (no detections), 3.1ms\n",
            "image 415/466 /content/drive/MyDrive/Turkish Plate Recognition/data/dataset/images/test/2127.png: 640x640 (no detections), 3.1ms\n",
            "image 416/466 /content/drive/MyDrive/Turkish Plate Recognition/data/dataset/images/test/2128.png: 640x640 (no detections), 3.1ms\n",
            "image 417/466 /content/drive/MyDrive/Turkish Plate Recognition/data/dataset/images/test/2129.png: 640x640 3 0s, 3.1ms\n",
            "image 418/466 /content/drive/MyDrive/Turkish Plate Recognition/data/dataset/images/test/2130.png: 640x640 (no detections), 3.1ms\n",
            "image 419/466 /content/drive/MyDrive/Turkish Plate Recognition/data/dataset/images/test/2131.png: 640x640 (no detections), 3.1ms\n",
            "image 420/466 /content/drive/MyDrive/Turkish Plate Recognition/data/dataset/images/test/2132.png: 640x640 (no detections), 3.1ms\n",
            "image 421/466 /content/drive/MyDrive/Turkish Plate Recognition/data/dataset/images/test/2133.png: 640x640 (no detections), 3.1ms\n",
            "image 422/466 /content/drive/MyDrive/Turkish Plate Recognition/data/dataset/images/test/2134.png: 640x640 2 0s, 3.0ms\n",
            "image 423/466 /content/drive/MyDrive/Turkish Plate Recognition/data/dataset/images/test/2135.png: 640x640 1 0, 3.1ms\n",
            "image 424/466 /content/drive/MyDrive/Turkish Plate Recognition/data/dataset/images/test/2136.png: 640x640 1 0, 3.1ms\n",
            "image 425/466 /content/drive/MyDrive/Turkish Plate Recognition/data/dataset/images/test/2137.png: 640x640 (no detections), 3.1ms\n",
            "image 426/466 /content/drive/MyDrive/Turkish Plate Recognition/data/dataset/images/test/2138.png: 640x640 1 0, 3.1ms\n",
            "image 427/466 /content/drive/MyDrive/Turkish Plate Recognition/data/dataset/images/test/2139.png: 640x640 2 0s, 3.1ms\n",
            "image 428/466 /content/drive/MyDrive/Turkish Plate Recognition/data/dataset/images/test/2140.png: 640x640 3 0s, 3.1ms\n",
            "image 429/466 /content/drive/MyDrive/Turkish Plate Recognition/data/dataset/images/test/2141.png: 640x640 (no detections), 3.1ms\n",
            "image 430/466 /content/drive/MyDrive/Turkish Plate Recognition/data/dataset/images/test/2142.png: 640x640 1 0, 3.1ms\n",
            "image 431/466 /content/drive/MyDrive/Turkish Plate Recognition/data/dataset/images/test/2143.png: 640x640 (no detections), 3.1ms\n",
            "image 432/466 /content/drive/MyDrive/Turkish Plate Recognition/data/dataset/images/test/2144.png: 640x640 (no detections), 3.1ms\n",
            "image 433/466 /content/drive/MyDrive/Turkish Plate Recognition/data/dataset/images/test/2145.png: 640x640 (no detections), 3.1ms\n",
            "image 434/466 /content/drive/MyDrive/Turkish Plate Recognition/data/dataset/images/test/2146.png: 640x640 (no detections), 3.1ms\n",
            "image 435/466 /content/drive/MyDrive/Turkish Plate Recognition/data/dataset/images/test/2147.png: 640x640 2 0s, 3.1ms\n",
            "image 436/466 /content/drive/MyDrive/Turkish Plate Recognition/data/dataset/images/test/2148.png: 640x640 (no detections), 3.1ms\n",
            "image 437/466 /content/drive/MyDrive/Turkish Plate Recognition/data/dataset/images/test/2149.png: 640x640 (no detections), 3.1ms\n",
            "image 438/466 /content/drive/MyDrive/Turkish Plate Recognition/data/dataset/images/test/2150.png: 640x640 2 0s, 3.0ms\n",
            "image 439/466 /content/drive/MyDrive/Turkish Plate Recognition/data/dataset/images/test/2151.png: 640x640 (no detections), 3.1ms\n",
            "image 440/466 /content/drive/MyDrive/Turkish Plate Recognition/data/dataset/images/test/2152.png: 640x640 (no detections), 3.1ms\n",
            "image 441/466 /content/drive/MyDrive/Turkish Plate Recognition/data/dataset/images/test/2153.png: 640x640 (no detections), 3.2ms\n",
            "image 442/466 /content/drive/MyDrive/Turkish Plate Recognition/data/dataset/images/test/2154.png: 640x640 (no detections), 3.2ms\n",
            "image 443/466 /content/drive/MyDrive/Turkish Plate Recognition/data/dataset/images/test/2155.png: 640x640 (no detections), 3.1ms\n",
            "image 444/466 /content/drive/MyDrive/Turkish Plate Recognition/data/dataset/images/test/2156.png: 640x640 (no detections), 3.1ms\n",
            "image 445/466 /content/drive/MyDrive/Turkish Plate Recognition/data/dataset/images/test/2157.png: 640x640 (no detections), 3.1ms\n",
            "image 446/466 /content/drive/MyDrive/Turkish Plate Recognition/data/dataset/images/test/2158.png: 640x640 (no detections), 3.1ms\n",
            "image 447/466 /content/drive/MyDrive/Turkish Plate Recognition/data/dataset/images/test/2159.png: 640x640 1 0, 3.1ms\n",
            "image 448/466 /content/drive/MyDrive/Turkish Plate Recognition/data/dataset/images/test/2160.png: 640x640 (no detections), 3.1ms\n",
            "image 449/466 /content/drive/MyDrive/Turkish Plate Recognition/data/dataset/images/test/2161.png: 640x640 2 0s, 3.1ms\n",
            "image 450/466 /content/drive/MyDrive/Turkish Plate Recognition/data/dataset/images/test/2162.png: 640x640 3 0s, 3.1ms\n",
            "image 451/466 /content/drive/MyDrive/Turkish Plate Recognition/data/dataset/images/test/2163.png: 640x640 1 0, 3.0ms\n",
            "image 452/466 /content/drive/MyDrive/Turkish Plate Recognition/data/dataset/images/test/2164.png: 640x640 (no detections), 3.0ms\n",
            "image 453/466 /content/drive/MyDrive/Turkish Plate Recognition/data/dataset/images/test/2165.png: 640x640 (no detections), 3.1ms\n",
            "image 454/466 /content/drive/MyDrive/Turkish Plate Recognition/data/dataset/images/test/2166.png: 640x640 1 0, 3.1ms\n",
            "image 455/466 /content/drive/MyDrive/Turkish Plate Recognition/data/dataset/images/test/2167.png: 640x640 (no detections), 3.1ms\n",
            "image 456/466 /content/drive/MyDrive/Turkish Plate Recognition/data/dataset/images/test/2168.png: 640x640 2 0s, 3.1ms\n",
            "image 457/466 /content/drive/MyDrive/Turkish Plate Recognition/data/dataset/images/test/2169.png: 640x640 (no detections), 3.1ms\n",
            "image 458/466 /content/drive/MyDrive/Turkish Plate Recognition/data/dataset/images/test/2170.png: 640x640 (no detections), 3.1ms\n",
            "image 459/466 /content/drive/MyDrive/Turkish Plate Recognition/data/dataset/images/test/2171.png: 640x640 (no detections), 3.0ms\n",
            "image 460/466 /content/drive/MyDrive/Turkish Plate Recognition/data/dataset/images/test/2172.png: 640x640 (no detections), 3.1ms\n",
            "image 461/466 /content/drive/MyDrive/Turkish Plate Recognition/data/dataset/images/test/2173.png: 640x640 1 0, 3.1ms\n",
            "image 462/466 /content/drive/MyDrive/Turkish Plate Recognition/data/dataset/images/test/2174.png: 640x640 1 0, 3.1ms\n",
            "image 463/466 /content/drive/MyDrive/Turkish Plate Recognition/data/dataset/images/test/2175.png: 640x640 3 0s, 3.1ms\n",
            "image 464/466 /content/drive/MyDrive/Turkish Plate Recognition/data/dataset/images/test/2176.png: 640x640 2 0s, 3.1ms\n",
            "image 465/466 /content/drive/MyDrive/Turkish Plate Recognition/data/dataset/images/test/2177.png: 640x640 (no detections), 3.0ms\n",
            "image 466/466 /content/drive/MyDrive/Turkish Plate Recognition/data/dataset/images/test/2178.png: 640x640 2 0s, 3.1ms\n",
            "Speed: 1.9ms preprocess, 3.1ms inference, 2.4ms postprocess per image at shape (1, 3, 640, 640)\n",
            "Results saved to \u001b[1mruns/detect/predict5\u001b[0m\n",
            "💡 Learn more at https://docs.ultralytics.com/modes/predict\n"
          ]
        }
      ],
      "source": [
        "!yolo predict task=detect model='/content/drive/MyDrive/Turkish Plate Recognition/runs/detect/yolov8n-plate-detection2/weights/best.engine' imgsz=640 half source=\"/content/drive/MyDrive/Turkish Plate Recognition/data/dataset/images/test\"\n"
      ]
    },
    {
      "cell_type": "code",
      "execution_count": null,
      "metadata": {
        "id": "6uHSN2qk_ivN",
        "colab": {
          "base_uri": "https://localhost:8080/",
          "height": 95
        },
        "outputId": "93b644a4-ec92-4313-ef83-b613c52210ff"
      },
      "outputs": [
        {
          "output_type": "display_data",
          "data": {
            "text/plain": [
              "<PIL.Image.Image image mode=RGB size=112x39>"
            ],
            "image/png": "[encoded data removed]"
          },
          "metadata": {}
        },
        {
          "output_type": "display_data",
          "data": {
            "text/plain": [
              "<PIL.Image.Image image mode=RGB size=112x39>"
            ],
            "image/png": "[encoded data removed]"
          },
          "metadata": {}
        }
      ],
      "source": [
        "from PIL import Image\n",
        "from IPython.display import display\n",
        "\n",
        "# Load the images\n",
        "image1 = Image.open(\"runs/detect/predict5/2173.png\")\n",
        "image2 = Image.open(\"runs/detect/predict5/2171.png\")\n",
        "\n",
        "w, h = image1.size\n",
        "new_width = int(w/2)\n",
        "new_height = int(h/2)\n",
        "\n",
        "# Resize the images\n",
        "image1 = image1.resize((new_width, new_height))\n",
        "image2 = image2.resize((new_width, new_height))\n",
        "\n",
        "# Display the images side by side\n",
        "display(image1, image2)"
      ]
    },
    {
      "cell_type": "markdown",
      "metadata": {
        "id": "t23v8tX4m3Bi"
      },
      "source": [
        "## mAP"
      ]
    },
    {
      "cell_type": "code",
      "execution_count": null,
      "metadata": {
        "id": "L_VvMCQSm4Zy"
      },
      "outputs": [],
      "source": [
        "# mAP Calculation YOLOv8 Model\n",
        "!yolo detect val model=yolov8x.pt data=coco128.yaml iou=0.5 imgsz=640 name=yolov8x"
      ]
    },
    {
      "cell_type": "code",
      "execution_count": null,
      "metadata": {
        "id": "O0LDOtg8nGE2"
      },
      "outputs": [],
      "source": [
        "# mAP Calculation YOLOv8 Tensorrt\n",
        "!yolo detect val model=yolov8x.engine data=coco128.yaml iou=0.5 imgsz=640 name=yolov8x-tensorrt"
      ]
    },
    {
      "cell_type": "markdown",
      "metadata": {
        "id": "Z7GeHBg_m4km"
      },
      "source": [
        "## Inference on Video"
      ]
    },
    {
      "cell_type": "code",
      "execution_count": null,
      "metadata": {
        "id": "a1PyUqCanKJW",
        "colab": {
          "base_uri": "https://localhost:8080/"
        },
        "outputId": "2e4bfcd3-f378-4562-cd01-3749ea3a7184"
      },
      "outputs": [
        {
          "output_type": "stream",
          "name": "stdout",
          "text": [
            "Downloading...\n",
            "From: https://drive.google.com/uc?id=1RskX1wXVF0xSMAPgpkU-EsaUv8tD7lvS\n",
            "To: /content/drive/MyDrive/yolov8-tensorrt/modules.zip\n",
            "\r  0% 0.00/5.39k [00:00<?, ?B/s]\r100% 5.39k/5.39k [00:00<00:00, 18.5MB/s]\n"
          ]
        }
      ],
      "source": [
        "# Download modules\n",
        "!gdown https://drive.google.com/uc?id=1RskX1wXVF0xSMAPgpkU-EsaUv8tD7lvS"
      ]
    },
    {
      "cell_type": "code",
      "execution_count": null,
      "metadata": {
        "id": "khIoR0ccnKWK",
        "colab": {
          "base_uri": "https://localhost:8080/"
        },
        "outputId": "3d60687e-c6d5-4977-ca21-0ff72fb30b82"
      },
      "outputs": [
        {
          "output_type": "stream",
          "name": "stdout",
          "text": [
            "Archive:  modules.zip\n",
            "  inflating: modules/autobackend.py  \n",
            "  inflating: modules/utils.py        \n"
          ]
        }
      ],
      "source": [
        "# Unzip the modules\n",
        "!unzip modules.zip"
      ]
    },
    {
      "cell_type": "code",
      "execution_count": null,
      "metadata": {
        "id": "ywuQHtHukaAj"
      },
      "outputs": [],
      "source": [
        "# Create inference folder\n",
        "!mkdir inference"
      ]
    },
    {
      "cell_type": "code",
      "execution_count": null,
      "metadata": {
        "id": "zANblaROkbTH",
        "colab": {
          "base_uri": "https://localhost:8080/"
        },
        "outputId": "419028b1-1cee-4859-fa92-234f170f851b"
      },
      "outputs": [
        {
          "output_type": "stream",
          "name": "stdout",
          "text": [
            "Downloading...\n",
            "From: https://drive.google.com/uc?id=11Z0BMXcKNdQmJNyBejWqU9V6z7gEloMZ\n",
            "To: /content/drive/MyDrive/yolov8-tensorrt/road.mp4\n",
            "100% 10.1M/10.1M [00:00<00:00, 15.1MB/s]\n"
          ]
        }
      ],
      "source": [
        "# Download the video\n",
        "!gdown https://drive.google.com/uc?id=11Z0BMXcKNdQmJNyBejWqU9V6z7gEloMZ"
      ]
    },
    {
      "cell_type": "code",
      "execution_count": null,
      "metadata": {
        "id": "N9KXMeCKke7L"
      },
      "outputs": [],
      "source": [
        "# Move the video to inference folder\n",
        "!mv road.mp4 inference/"
      ]
    },
    {
      "cell_type": "code",
      "execution_count": null,
      "metadata": {
        "id": "L3HtPyVwkleD"
      },
      "outputs": [],
      "source": [
        "import torch\n",
        "import cv2\n",
        "import random\n",
        "import time\n",
        "import pathlib\n",
        "from ultralytics import YOLO\n",
        "\n",
        "import modules.utils as utils\n",
        "from modules.autobackend import AutoBackend\n",
        "\n",
        "def tensorrt_detection(model, source, image):\n",
        "    # Preprocess\n",
        "    im = utils.preprocess(image)\n",
        "\n",
        "    # Inference\n",
        "    preds = model(im)\n",
        "\n",
        "    # Post Process\n",
        "    results = utils.postprocess(preds, im, image, model.names, source)\n",
        "    d = results[0].boxes\n",
        "\n",
        "    # Get information from result\n",
        "    tensor_size = d.cls.size()[0]\n",
        "    if(tensor_size > 1):\n",
        "        cls, conf, box = d.cls.squeeze(), d.conf.squeeze(), d.xyxy.squeeze()\n",
        "    else:\n",
        "        cls, conf, box = d.cls, d.conf, d.xyxy\n",
        "\n",
        "    return cls, conf, box\n",
        "\n",
        "def yolov8_detection(model, image):\n",
        "    # Update object localizer\n",
        "    results = model.predict(image, imgsz=640, conf=0.5, verbose=False)\n",
        "    result = results[0].cpu()\n",
        "\n",
        "    # Get information from result\n",
        "    box = result.boxes.xyxy.numpy()\n",
        "    conf = result.boxes.conf.numpy()\n",
        "    cls = result.boxes.cls.numpy().astype(int)\n",
        "\n",
        "    return cls, conf, box\n",
        "\n",
        "def detection(model_path, source, name):\n",
        "  # Check File Extension\n",
        "  file_extension = pathlib.Path(model_path).suffix\n",
        "\n",
        "  if(file_extension == \".engine\"):\n",
        "    model = AutoBackend(model_path, device=torch.device('cuda:0'), fp16=True)\n",
        "    # Warmup\n",
        "    model.warmup()\n",
        "  else:\n",
        "    model = YOLO(model_path)\n",
        "\n",
        "  # Class Name and Colors\n",
        "  label_map = model.names\n",
        "  COLORS = [[random.randint(0, 255) for _ in range(3)] for _ in label_map]\n",
        "\n",
        "  # FPS Detection\n",
        "  frame_count = 0\n",
        "  total_fps = 0\n",
        "  avg_fps = 0\n",
        "\n",
        "  # FPS Video\n",
        "  video_cap = cv2.VideoCapture(source)\n",
        "\n",
        "  total_frames = int(video_cap.get(cv2.CAP_PROP_FRAME_COUNT))\n",
        "  frame_width = int(video_cap.get(3))\n",
        "  frame_height = int(video_cap.get(4))\n",
        "\n",
        "  video_frames = []\n",
        "\n",
        "  while video_cap.isOpened():\n",
        "      ret, frame = video_cap.read()\n",
        "      if not ret:\n",
        "          break\n",
        "\n",
        "      # # Start Time\n",
        "      start = time.time()\n",
        "\n",
        "      # Detection\n",
        "      if(file_extension == \".engine\"):\n",
        "        cls, conf, box = tensorrt_detection(model, source, frame)\n",
        "      else:\n",
        "        cls, conf, box = yolov8_detection(model, frame)\n",
        "\n",
        "      # Pack together for easy use\n",
        "      detection_output = list(zip(cls, conf, box))\n",
        "      image_output = utils.draw_box(frame, detection_output, label_map, COLORS)\n",
        "\n",
        "      end = time.time()\n",
        "      # # End Time\n",
        "\n",
        "      # Draw FPS\n",
        "      frame_count += 1\n",
        "      fps = 1 / (end - start)\n",
        "      total_fps = total_fps + fps\n",
        "      avg_fps = total_fps / frame_count\n",
        "\n",
        "      image_output = utils.draw_fps(avg_fps, image_output)\n",
        "\n",
        "      # Append frame to array\n",
        "      video_frames.append(image_output)\n",
        "\n",
        "      #\n",
        "      print(\"(%2d / %2d) Frames Processed\" % (frame_count, total_frames))\n",
        "\n",
        "  print(avg_fps)\n",
        "\n",
        "  # Get a file name\n",
        "  file_name = utils.get_name(source)\n",
        "  # Get Save Path\n",
        "  folder_name = name\n",
        "  save_path = utils.get_save_path(file_name, folder_name)\n",
        "  # Create VideoWriter object.\n",
        "  out = cv2.VideoWriter(save_path, cv2.VideoWriter_fourcc(*'XVID'), int(avg_fps), (frame_width, frame_height))\n",
        "\n",
        "  for frame in video_frames:\n",
        "      out.write(frame)\n",
        "\n",
        "  out.release()\n",
        "\n",
        "  print(\"Video is saved in: \"+save_path)"
      ]
    },
    {
      "cell_type": "code",
      "execution_count": null,
      "metadata": {
        "id": "Fcl651SGko9V"
      },
      "outputs": [],
      "source": [
        "detection(\"/content/drive/MyDrive/Turkish Plate Recognition/runs/detect/yolov8n-plate-detection2/weights/best.pt\", \"/content/drive/MyDrive/Turkish Plate Recognition/data/araba.mp4\", \"detection-yolov8-detect\")"
      ]
    },
    {
      "cell_type": "code",
      "execution_count": null,
      "metadata": {
        "id": "NTZH7sCHkpfr",
        "colab": {
          "base_uri": "https://localhost:8080/",
          "height": 17
        },
        "outputId": "3a4479a8-1942-4bb8-b1b3-4af59c584443"
      },
      "outputs": [
        {
          "output_type": "display_data",
          "data": {
            "text/plain": [
              "<IPython.core.display.Javascript object>"
            ],
            "application/javascript": [
              "\n",
              "    async function download(id, filename, size) {\n",
              "      if (!google.colab.kernel.accessAllowed) {\n",
              "        return;\n",
              "      }\n",
              "      const div = document.createElement('div');\n",
              "      const label = document.createElement('label');\n",
              "      label.textContent = `Downloading \"${filename}\": `;\n",
              "      div.appendChild(label);\n",
              "      const progress = document.createElement('progress');\n",
              "      progress.max = size;\n",
              "      div.appendChild(progress);\n",
              "      document.body.appendChild(div);\n",
              "\n",
              "      const buffers = [];\n",
              "      let downloaded = 0;\n",
              "\n",
              "      const channel = await google.colab.kernel.comms.open(id);\n",
              "      // Send a message to notify the kernel that we're ready.\n",
              "      channel.send({})\n",
              "\n",
              "      for await (const message of channel.messages) {\n",
              "        // Send a message to notify the kernel that we're ready.\n",
              "        channel.send({})\n",
              "        if (message.buffers) {\n",
              "          for (const buffer of message.buffers) {\n",
              "            buffers.push(buffer);\n",
              "            downloaded += buffer.byteLength;\n",
              "            progress.value = downloaded;\n",
              "          }\n",
              "        }\n",
              "      }\n",
              "      const blob = new Blob(buffers, {type: 'application/binary'});\n",
              "      const a = document.createElement('a');\n",
              "      a.href = window.URL.createObjectURL(blob);\n",
              "      a.download = filename;\n",
              "      div.appendChild(a);\n",
              "      a.click();\n",
              "      div.remove();\n",
              "    }\n",
              "  "
            ]
          },
          "metadata": {}
        },
        {
          "output_type": "display_data",
          "data": {
            "text/plain": [
              "<IPython.core.display.Javascript object>"
            ],
            "application/javascript": [
              "download(\"download_84882bc3-6ce1-4cd9-9a63-18b165bed628\", \"araba.mp4\", 10805826)"
            ]
          },
          "metadata": {}
        }
      ],
      "source": [
        "# Download the result\n",
        "from google.colab import files\n",
        "\n",
        "files.download('/content/drive/MyDrive/yolov8-tensorrt/result/detection-yolov8-detect/araba.mp4')"
      ]
    },
    {
      "cell_type": "code",
      "source": [
        "import tensorrt as trt\n",
        "print(trt.__version__)"
      ],
      "metadata": {
        "colab": {
          "base_uri": "https://localhost:8080/"
        },
        "id": "4g6qwErNIzOS",
        "outputId": "9870a3cf-218b-4a8a-a056-66f31ca73fc5"
      },
      "execution_count": null,
      "outputs": [
        {
          "output_type": "stream",
          "name": "stdout",
          "text": [
            "10.2.0.post1\n"
          ]
        }
      ]
    },
    {
      "cell_type": "code",
      "source": [
        "import tensorrt as trt\n",
        "\n",
        "def load_engine(engine_path):\n",
        "    TRT_LOGGER = trt.Logger(trt.Logger.WARNING)\n",
        "    with open(engine_path, 'rb') as f:\n",
        "        engine_data = f.read()\n",
        "\n",
        "    runtime = trt.Runtime(TRT_LOGGER)\n",
        "    engine = runtime.deserialize_cuda_engine(engine_data)\n",
        "\n",
        "    if engine is None:\n",
        "        raise RuntimeError(\"Failed to deserialize CUDA engine\")\n",
        "\n",
        "    # Get input and output bindings\n",
        "    bindings = []\n",
        "    for i in range(engine.num_bindings):\n",
        "        binding_name = engine.get_binding_name(i)\n",
        "        binding_dtype = engine.get_binding_dtype(i)\n",
        "        binding_shape = engine.get_binding_shape(i)\n",
        "        bindings.append((binding_name, binding_dtype, binding_shape))\n",
        "\n",
        "    return engine, bindings\n",
        "\n",
        "engine_path = \"/content/drive/MyDrive/Turkish Plate Recognition/runs/detect/yolov8n-plate-detection2/weights/best.engine\"\n",
        "try:\n",
        "    engine, bindings = load_engine(engine_path)\n",
        "    for binding in bindings:\n",
        "        print(binding)\n",
        "except RuntimeError as e:\n",
        "    print(f\"Error loading engine: {e}\")\n"
      ],
      "metadata": {
        "colab": {
          "base_uri": "https://localhost:8080/"
        },
        "id": "yqkADLOQJEod",
        "outputId": "40daf32c-77c1-43b3-feaa-35344165f2c1"
      },
      "execution_count": null,
      "outputs": [
        {
          "output_type": "stream",
          "name": "stdout",
          "text": [
            "Error loading engine: Failed to deserialize CUDA engine\n"
          ]
        }
      ]
    },
    {
      "cell_type": "code",
      "source": [
        "import onnx\n",
        "\n",
        "def check_onnx_model(model_path):\n",
        "    try:\n",
        "        model = onnx.load(model_path)\n",
        "        onnx.checker.check_model(model)\n",
        "        print(\"ONNX model is valid.\")\n",
        "    except Exception as e:\n",
        "        print(f\"ONNX model validation error: {e}\")\n",
        "\n",
        "onnx_path = \"/content/drive/MyDrive/Turkish Plate Recognition/runs/detect/yolov8n-plate-detection2/weights/best.onnx\"\n",
        "check_onnx_model(onnx_path)\n"
      ],
      "metadata": {
        "colab": {
          "base_uri": "https://localhost:8080/"
        },
        "id": "1BFID4eYJ_6J",
        "outputId": "a8eb7ccf-7936-4bd4-c77d-bb503f1877f8"
      },
      "execution_count": null,
      "outputs": [
        {
          "output_type": "stream",
          "name": "stdout",
          "text": [
            "ONNX model is valid.\n"
          ]
        }
      ]
    },
    {
      "cell_type": "code",
      "execution_count": null,
      "metadata": {
        "id": "_9UVb02-nKaw",
        "colab": {
          "base_uri": "https://localhost:8080/",
          "height": 321
        },
        "outputId": "f984154b-9147-43dd-9276-37d83908fbab"
      },
      "outputs": [
        {
          "output_type": "stream",
          "name": "stdout",
          "text": [
            "Loading /content/drive/MyDrive/Turkish Plate Recognition/runs/detect/yolov8n-plate-detection2/weights/best.engine for TensorRT inference...\n"
          ]
        },
        {
          "output_type": "error",
          "ename": "AttributeError",
          "evalue": "'tensorrt_bindings.tensorrt.ICudaEngine' object has no attribute 'num_bindings'",
          "traceback": [
            "\u001b[0;31m---------------------------------------------------------------------------\u001b[0m",
            "\u001b[0;31mAttributeError\u001b[0m                            Traceback (most recent call last)",
            "\u001b[0;32m<ipython-input-42-05d7137cd496>\u001b[0m in \u001b[0;36m<cell line: 1>\u001b[0;34m()\u001b[0m\n\u001b[0;32m----> 1\u001b[0;31m \u001b[0mdetection\u001b[0m\u001b[0;34m(\u001b[0m\u001b[0;34m\"/content/drive/MyDrive/Turkish Plate Recognition/runs/detect/yolov8n-plate-detection2/weights/best.engine\"\u001b[0m\u001b[0;34m,\u001b[0m \u001b[0;34m\"/content/drive/MyDrive/Turkish Plate Recognition/data/araba.mp4\"\u001b[0m\u001b[0;34m,\u001b[0m \u001b[0;34m\"detection\"\u001b[0m\u001b[0;34m)\u001b[0m\u001b[0;34m\u001b[0m\u001b[0;34m\u001b[0m\u001b[0m\n\u001b[0m",
            "\u001b[0;32m<ipython-input-36-72fe58c316ae>\u001b[0m in \u001b[0;36mdetection\u001b[0;34m(model_path, source, name)\u001b[0m\n\u001b[1;32m     46\u001b[0m \u001b[0;34m\u001b[0m\u001b[0m\n\u001b[1;32m     47\u001b[0m   \u001b[0;32mif\u001b[0m\u001b[0;34m(\u001b[0m\u001b[0mfile_extension\u001b[0m \u001b[0;34m==\u001b[0m \u001b[0;34m\".engine\"\u001b[0m\u001b[0;34m)\u001b[0m\u001b[0;34m:\u001b[0m\u001b[0;34m\u001b[0m\u001b[0;34m\u001b[0m\u001b[0m\n\u001b[0;32m---> 48\u001b[0;31m     \u001b[0mmodel\u001b[0m \u001b[0;34m=\u001b[0m \u001b[0mAutoBackend\u001b[0m\u001b[0;34m(\u001b[0m\u001b[0mmodel_path\u001b[0m\u001b[0;34m,\u001b[0m \u001b[0mdevice\u001b[0m\u001b[0;34m=\u001b[0m\u001b[0mtorch\u001b[0m\u001b[0;34m.\u001b[0m\u001b[0mdevice\u001b[0m\u001b[0;34m(\u001b[0m\u001b[0;34m'cuda:0'\u001b[0m\u001b[0;34m)\u001b[0m\u001b[0;34m,\u001b[0m \u001b[0mfp16\u001b[0m\u001b[0;34m=\u001b[0m\u001b[0;32mTrue\u001b[0m\u001b[0;34m)\u001b[0m\u001b[0;34m\u001b[0m\u001b[0;34m\u001b[0m\u001b[0m\n\u001b[0m\u001b[1;32m     49\u001b[0m     \u001b[0;31m# Warmup\u001b[0m\u001b[0;34m\u001b[0m\u001b[0;34m\u001b[0m\u001b[0m\n\u001b[1;32m     50\u001b[0m     \u001b[0mmodel\u001b[0m\u001b[0;34m.\u001b[0m\u001b[0mwarmup\u001b[0m\u001b[0;34m(\u001b[0m\u001b[0;34m)\u001b[0m\u001b[0;34m\u001b[0m\u001b[0;34m\u001b[0m\u001b[0m\n",
            "\u001b[0;32m/content/drive/MyDrive/yolov8-tensorrt/modules/autobackend.py\u001b[0m in \u001b[0;36m__init__\u001b[0;34m(self, weights, device, data, fp16)\u001b[0m\n\u001b[1;32m     94\u001b[0m         \u001b[0mfp16\u001b[0m \u001b[0;34m=\u001b[0m \u001b[0;32mFalse\u001b[0m  \u001b[0;31m# default updated below\u001b[0m\u001b[0;34m\u001b[0m\u001b[0;34m\u001b[0m\u001b[0m\n\u001b[1;32m     95\u001b[0m         \u001b[0mdynamic\u001b[0m \u001b[0;34m=\u001b[0m \u001b[0;32mFalse\u001b[0m\u001b[0;34m\u001b[0m\u001b[0;34m\u001b[0m\u001b[0m\n\u001b[0;32m---> 96\u001b[0;31m         \u001b[0;32mfor\u001b[0m \u001b[0mi\u001b[0m \u001b[0;32min\u001b[0m \u001b[0mrange\u001b[0m\u001b[0;34m(\u001b[0m\u001b[0mmodel\u001b[0m\u001b[0;34m.\u001b[0m\u001b[0mnum_bindings\u001b[0m\u001b[0;34m)\u001b[0m\u001b[0;34m:\u001b[0m\u001b[0;34m\u001b[0m\u001b[0;34m\u001b[0m\u001b[0m\n\u001b[0m\u001b[1;32m     97\u001b[0m             \u001b[0mname\u001b[0m \u001b[0;34m=\u001b[0m \u001b[0mmodel\u001b[0m\u001b[0;34m.\u001b[0m\u001b[0mget_binding_name\u001b[0m\u001b[0;34m(\u001b[0m\u001b[0mi\u001b[0m\u001b[0;34m)\u001b[0m\u001b[0;34m\u001b[0m\u001b[0;34m\u001b[0m\u001b[0m\n\u001b[1;32m     98\u001b[0m             \u001b[0mdtype\u001b[0m \u001b[0;34m=\u001b[0m \u001b[0mtrt\u001b[0m\u001b[0;34m.\u001b[0m\u001b[0mnptype\u001b[0m\u001b[0;34m(\u001b[0m\u001b[0mmodel\u001b[0m\u001b[0;34m.\u001b[0m\u001b[0mget_binding_dtype\u001b[0m\u001b[0;34m(\u001b[0m\u001b[0mi\u001b[0m\u001b[0;34m)\u001b[0m\u001b[0;34m)\u001b[0m\u001b[0;34m\u001b[0m\u001b[0;34m\u001b[0m\u001b[0m\n",
            "\u001b[0;31mAttributeError\u001b[0m: 'tensorrt_bindings.tensorrt.ICudaEngine' object has no attribute 'num_bindings'"
          ]
        }
      ],
      "source": [
        "detection(\"/content/drive/MyDrive/Turkish Plate Recognition/runs/detect/yolov8n-plate-detection2/weights/best.engine\", \"/content/drive/MyDrive/Turkish Plate Recognition/data/araba.mp4\", \"detection\")"
      ]
    },
    {
      "cell_type": "code",
      "execution_count": null,
      "metadata": {
        "id": "Xjv-OcATnKdD"
      },
      "outputs": [],
      "source": [
        "# Download the result\n",
        "from google.colab import files\n",
        "\n",
        "files.download('result/detection/road.mp4')"
      ]
    }
  ],
  "metadata": {
    "accelerator": "GPU",
    "colab": {
      "gpuType": "T4",
      "provenance": []
    },
    "kernelspec": {
      "display_name": "Python 3",
      "name": "python3"
    },
    "language_info": {
      "name": "python"
    }
  },
  "nbformat": 4,
  "nbformat_minor": 0
}